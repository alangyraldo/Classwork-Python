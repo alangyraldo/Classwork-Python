{
  "nbformat": 4,
  "nbformat_minor": 0,
  "metadata": {
    "colab": {
      "provenance": []
    },
    "kernelspec": {
      "name": "python3",
      "display_name": "Python 3"
    },
    "language_info": {
      "name": "python"
    }
  },
  "cells": [
    {
      "cell_type": "code",
      "execution_count": 1,
      "metadata": {
        "colab": {
          "base_uri": "https://localhost:8080/"
        },
        "id": "CMRuUmQs4PDs",
        "outputId": "aa4d0700-f598-499f-d423-767223b4627e"
      },
      "outputs": [
        {
          "output_type": "stream",
          "name": "stdout",
          "text": [
            "['leche', 'pan', 'huevos']\n"
          ]
        }
      ],
      "source": [
        "#1\n",
        "compras= [\"leche\", \"pan\"]\n",
        "compras.append(\"huevos\")# con append se agrega a la lista\n",
        "print(compras)"
      ]
    },
    {
      "cell_type": "code",
      "source": [
        "#2\n",
        "perfil_usuario = {\n",
        "    \"nombre\": input(\"Introduce el nombre del usuario: \"),\n",
        "    \"edad\": int(input(\"Introduce la edad del usuario: \"))}\n",
        "\n",
        "nueva_edad = int(input(\"Introduce la nueva edad del usuario: \"))# Actualizar la edad del usuario\n",
        "perfil_usuario[\"edad\"] = nueva_edad\n",
        "perfil_usuario[\"ciudad\"] = input(\"Introduce la ciudad del usuario: \")# Añadir la clave \"ciudad\"\n",
        "print(perfil_usuario)"
      ],
      "metadata": {
        "colab": {
          "base_uri": "https://localhost:8080/"
        },
        "id": "XfCsSHV95qD4",
        "outputId": "81162aea-89b6-492a-99a4-69ffb1761536"
      },
      "execution_count": 2,
      "outputs": [
        {
          "output_type": "stream",
          "name": "stdout",
          "text": [
            "Introduce el nombre del usuario: alan\n",
            "Introduce la edad del usuario: 78\n",
            "Introduce la nueva edad del usuario: 98\n",
            "Introduce la ciudad del usuario: bogota\n",
            "{'nombre': 'alan', 'edad': 98, 'ciudad': 'bogota'}\n"
          ]
        }
      ]
    },
    {
      "cell_type": "code",
      "source": [
        "#3\n",
        "coordenadas =(40.7128, -74.0060) # creamos la tupla\n",
        "lat , long = coordenadas # lo desempaquetamos\n",
        "print(lat, long)# se imprime\n"
      ],
      "metadata": {
        "colab": {
          "base_uri": "https://localhost:8080/"
        },
        "id": "8OJ35LFI7lxR",
        "outputId": "eb2d30f8-79b2-47b0-9cc3-bd9396030852"
      },
      "execution_count": 3,
      "outputs": [
        {
          "output_type": "stream",
          "name": "stdout",
          "text": [
            "40.7128 -74.006\n"
          ]
        }
      ]
    },
    {
      "cell_type": "code",
      "source": [
        "#4\n",
        "temperaturas = [22.5, 24.0, 21.8, 25.1, 23.9, 22.7, 21.5]\n",
        "prom= sum(temperaturas)/len(temperaturas) # se genera una variable para el promedio donde lleva la suma de las temperaturas y la longitud de ellas\n",
        "print(prom)"
      ],
      "metadata": {
        "colab": {
          "base_uri": "https://localhost:8080/"
        },
        "id": "A8sKdXd78wD5",
        "outputId": "def0226e-7573-47d4-89df-7131cea93cf5"
      },
      "execution_count": 4,
      "outputs": [
        {
          "output_type": "stream",
          "name": "stdout",
          "text": [
            "23.071428571428573\n"
          ]
        }
      ]
    },
    {
      "cell_type": "code",
      "source": [
        "#5\n",
        "diccionario ={'hi':'hola','tomorrow':'mañana','yesterday':'ayer','yellow':'amarillo','smart':'inteligente', 'goodbye':'adios','thanks':'gracias','sorry':'lo siento'}\n",
        "\n",
        "\n",
        "busqueda=input(\"digite la palabra que desea buscar en ingles\").lower()# se realiza un imput para solicitar la palabra al ususario\n",
        "\n",
        "if busqueda in diccionario:# se crea un if para la condicion, en este caso con un .get para buscar la pabara y verificar si se encuentra\n",
        "    print(diccionario.get(busqueda))\n",
        "else:\n",
        "    print(\"la palabra no se encuentra en el diccionario\")\n",
        "\n"
      ],
      "metadata": {
        "colab": {
          "base_uri": "https://localhost:8080/"
        },
        "id": "beMzoh189ogp",
        "outputId": "5ed9a97e-7674-4887-a3ab-fb360b56f4fc"
      },
      "execution_count": 5,
      "outputs": [
        {
          "output_type": "stream",
          "name": "stdout",
          "text": [
            "digite la palabra que desea buscar en inglesplease\n",
            "la palabra no se encuentra en el diccionario\n"
          ]
        }
      ]
    },
    {
      "cell_type": "code",
      "source": [
        "#6\n",
        "horario=(('matematicas','08:00am'),('fisica','10:00am'),('historia','12:00pm'))\n",
        "\n",
        "#recorremoe el horarioy lo imprimimos cada clase\n",
        "print('horariodeclases es:')\n",
        "for materia, hora in horario:\n",
        "  print(f\"{materia} - {hora}\")"
      ],
      "metadata": {
        "colab": {
          "base_uri": "https://localhost:8080/"
        },
        "id": "gVkCUBok_x9y",
        "outputId": "970fadae-6505-4280-e73b-6d527408c657"
      },
      "execution_count": 6,
      "outputs": [
        {
          "output_type": "stream",
          "name": "stdout",
          "text": [
            "horariodeclases es:\n",
            "matematicas - 08:00am\n",
            "fisica - 10:00am\n",
            "historia - 12:00pm\n"
          ]
        }
      ]
    },
    {
      "cell_type": "code",
      "source": [
        "#7\n",
        "invitados_dia = [\"Ana\", \"Luis\", \"Marta\", \"Pedro\"]\n",
        "invitados_noche = [\"Luis\", \"Sofía\", \"Ana\", \"Juan\"]\n",
        "\n",
        "invitadostotal= list(set(invitados_dia + invitados_noche))# creamos una variable para poder unir las listas con set\n",
        "print(invitadostotal)"
      ],
      "metadata": {
        "colab": {
          "base_uri": "https://localhost:8080/"
        },
        "id": "CsLvX4w3BgBK",
        "outputId": "218a3ed7-db17-4ea7-83d9-632c90655346"
      },
      "execution_count": 7,
      "outputs": [
        {
          "output_type": "stream",
          "name": "stdout",
          "text": [
            "['Marta', 'Ana', 'Luis', 'Sofía', 'Pedro', 'Juan']\n"
          ]
        }
      ]
    },
    {
      "cell_type": "code",
      "source": [
        "#8\n",
        "inventario = [\n",
        "    {\"nombre\": \"Laptop\", \"precio\": 900, \"stock\": 15},{\"nombre\": \"Teléfono\", \"precio\": 500, \"stock\": 30},{\"nombre\": \"Tablet\", \"precio\": 250, \"stock\": 20},{\"nombre\": \"Auriculares\", \"precio\": 100, \"stock\": 50},\n",
        "    {\"nombre\": \"Cargador\", \"precio\": 25, \"stock\": 100}]\n",
        "producto_buscar = input(\"Introduce el nombre del producto: \").lower()# Pedir al usuario el nombre del producto a buscar\n",
        "producto_encontrado = next((producto for producto in inventario if producto[\"nombre\"].lower() == producto_buscar), None)# Buscar el producto en el inventario\n",
        "\n",
        "if producto_encontrado:\n",
        "    print(f\"Producto encontrado: {producto_encontrado}\")\n",
        "else:\n",
        "    print(\"Producto no encontrado.\")\n"
      ],
      "metadata": {
        "colab": {
          "base_uri": "https://localhost:8080/"
        },
        "id": "gpqONIJYCr-q",
        "outputId": "af859ccb-fd48-49b3-efb8-fd209b929977"
      },
      "execution_count": 8,
      "outputs": [
        {
          "output_type": "stream",
          "name": "stdout",
          "text": [
            "Introduce el nombre del producto: celular\n",
            "Producto no encontrado.\n"
          ]
        }
      ]
    },
    {
      "cell_type": "code",
      "source": [
        "#9\n",
        "estudiantes = {\"Ana\": 4.5, \"Luis\": 3.8, \"Marta\": 4.8, \"Pedro\": 3.9}\n",
        "\n",
        "estudiantes[\"Pedro\"] = 2.9# Actualizar la calificación de Pedro\n",
        "print(estudiantes)"
      ],
      "metadata": {
        "colab": {
          "base_uri": "https://localhost:8080/"
        },
        "id": "JW0SYhukD1Z6",
        "outputId": "0cf00dc0-592d-405b-d4ae-a33704d266fc"
      },
      "execution_count": 9,
      "outputs": [
        {
          "output_type": "stream",
          "name": "stdout",
          "text": [
            "{'Ana': 4.5, 'Luis': 3.8, 'Marta': 4.8, 'Pedro': 2.9}\n"
          ]
        }
      ]
    },
    {
      "cell_type": "code",
      "source": [
        "# 10\n",
        "numeros = [1, 2, 3, 4, 5, 6, 7, 8, 9, 10]\n",
        "pares = [numero for numero in numeros if numero % 2 == 0]# Crear una nueva lista con solo los números pares utilizando lista por comprensión\n",
        "print(pares)\n"
      ],
      "metadata": {
        "colab": {
          "base_uri": "https://localhost:8080/"
        },
        "id": "UWIWtrZRErG6",
        "outputId": "75b715a3-98cf-40ab-f9f5-f774f5d90a1d"
      },
      "execution_count": 10,
      "outputs": [
        {
          "output_type": "stream",
          "name": "stdout",
          "text": [
            "[2, 4, 6, 8, 10]\n"
          ]
        }
      ]
    },
    {
      "cell_type": "code",
      "source": [
        "#11\n",
        "estudiantes = [\n",
        "    {\"nombre\": \"Ana\", \"promedio\": 4.5, \"curso\": \"10A\"},\n",
        "    {\"nombre\": \"Luis\", \"promedio\": 3.8, \"curso\": \"10B\"},\n",
        "    {\"nombre\": \"Marta\", \"promedio\": 4.8, \"curso\": \"10A\"},\n",
        "    {\"nombre\": \"Pedro\", \"promedio\": 3.9, \"curso\": \"10C\"},\n",
        "    {\"nombre\": \"Sofía\", \"promedio\": 4.2, \"curso\": \"10B\"}\n",
        "]\n",
        "\n",
        "buenprom= [estudiante[\"promedio\"] for estudiante in estudiantes if estudiante[\"promedio\"] >= 4.5]# se crea una variable para sacar el promedio de los estudiantes\n",
        "print(buenprom)\n",
        "nombres_estudiantes = [estudiante[\"nombre\"] for estudiante in estudiantes]# se crea una variable para sacar el listado de el nombre  de los estudiantes\n",
        "print(nombres_estudiantes)"
      ],
      "metadata": {
        "colab": {
          "base_uri": "https://localhost:8080/"
        },
        "id": "qFTN9B54E8l6",
        "outputId": "95fddbf8-8b32-4a41-9d14-9604890a4060"
      },
      "execution_count": 11,
      "outputs": [
        {
          "output_type": "stream",
          "name": "stdout",
          "text": [
            "[4.5, 4.8]\n",
            "['Ana', 'Luis', 'Marta', 'Pedro', 'Sofía']\n"
          ]
        }
      ]
    },
    {
      "cell_type": "code",
      "source": [
        "#12\n",
        "ventas = [\n",
        "    (\"Laptop\", \"Electrónica\", 1500),\n",
        "    (\"Camisa\", \"Ropa\", 80),\n",
        "    (\"Mouse\", \"Electrónica\", 50),\n",
        "    (\"Pantalón\", \"Ropa\", 120),\n",
        "    (\"Teclado\", \"Electrónica\", 70)\n",
        "]\n",
        "\n",
        "# Diccionario para almacenar el total de ventas por categoría\n",
        "total_ventas = {}\n",
        "\n",
        "# Recorrer las ventas y sumar el monto a la categoría correspondiente\n",
        "for producto, categoria, monto in ventas:\n",
        "    if categoria in total_ventas:\n",
        "        total_ventas[categoria] += monto  # Si la categoría ya existe, sumar el monto\n",
        "    else:\n",
        "        total_ventas[categoria] = monto  # Si la categoría no existe, crearla con el monto inicial\n",
        "\n",
        "# Mostrar el total de ventas por categoría\n",
        "print(total_ventas)\n"
      ],
      "metadata": {
        "colab": {
          "base_uri": "https://localhost:8080/"
        },
        "id": "p9J8aUvvGg57",
        "outputId": "97ff2c54-5510-458e-8547-2ccc79bf0ee8"
      },
      "execution_count": 12,
      "outputs": [
        {
          "output_type": "stream",
          "name": "stdout",
          "text": [
            "{'Electrónica': 1620, 'Ropa': 200}\n"
          ]
        }
      ]
    },
    {
      "cell_type": "code",
      "source": [
        "#13\n",
        "\n",
        "libro = {\n",
        "    \"titulo\": \"Python para Todos\",\n",
        "    \"año\": 2024,\n",
        "    \"autores\": [\n",
        "        {\"nombre\": \"Raúl\", \"nacionalidad\": \"Española\"},\n",
        "        {\"nombre\": \"Laura\", \"nacionalidad\": \"Mexicana\"}\n",
        "    ],\n",
        "    \"editorial\": \"Ediciones Código\"}\n",
        "nombres_autores = [autor[\"nombre\"] for autor in libro[\"autores\"]]# Crear una lista con los nombres de los autore\n",
        "print(nombres_autores)# Mostrar la lista de nombres de los autores\n"
      ],
      "metadata": {
        "colab": {
          "base_uri": "https://localhost:8080/"
        },
        "id": "BUusEiBqHVXj",
        "outputId": "efb4e985-767e-42ba-c3ee-76c6bcc1dbbc"
      },
      "execution_count": 13,
      "outputs": [
        {
          "output_type": "stream",
          "name": "stdout",
          "text": [
            "['Raúl', 'Laura']\n"
          ]
        }
      ]
    },
    {
      "cell_type": "code",
      "source": [
        "#14\n",
        "# Diccionario de productos y precios\n",
        "productos = {\n",
        "    101: \"Leche\",\n",
        "    102: \"Pan\",\n",
        "    103: \"Huevos\"\n",
        "}\n",
        "\n",
        "precios = {\n",
        "    101: 4500,\n",
        "    102: 2500,\n",
        "    103: 8000\n",
        "}\n",
        "\n",
        "ventas_del_dia = [\n",
        "    (101, 5),  # Se vendieron 5 unidades de Leche\n",
        "    (102, 10), # Se vendieron 10 unidades de Pan\n",
        "    (101, 3),  # Se vendieron otras 3 unidades de Leche\n",
        "    (103, 2)   # Se vendieron 2 unidades de Huevos\n",
        "]\n",
        "ingreso_total = 0\n",
        "\n",
        "\n",
        "for id_producto, cantidad in ventas_del_dia:# Recorrer las ventas del día\n",
        "    precio = precios[id_producto]# Obtener el precio del producto usando su ID\n",
        "    ingreso_total += precio * cantidad# Calcular el ingreso de esa venta y sumarlo al total\n",
        "print(f\"Ingreso total del día: {ingreso_total}\")\n"
      ],
      "metadata": {
        "colab": {
          "base_uri": "https://localhost:8080/"
        },
        "id": "wghypKcxHsbb",
        "outputId": "f00ae36d-3c7b-493c-ec76-02e2be7df3dc"
      },
      "execution_count": 14,
      "outputs": [
        {
          "output_type": "stream",
          "name": "stdout",
          "text": [
            "Ingreso total del día: 77000\n"
          ]
        }
      ]
    }
  ]
}