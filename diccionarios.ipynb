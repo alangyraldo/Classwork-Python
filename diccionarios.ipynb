{
  "nbformat": 4,
  "nbformat_minor": 0,
  "metadata": {
    "colab": {
      "provenance": []
    },
    "kernelspec": {
      "name": "python3",
      "display_name": "Python 3"
    },
    "language_info": {
      "name": "python"
    }
  },
  "cells": [
    {
      "cell_type": "code",
      "execution_count": 3,
      "metadata": {
        "colab": {
          "base_uri": "https://localhost:8080/"
        },
        "id": "pJfObaQMm4BH",
        "outputId": "f556c20c-77f4-40c5-9423-7fc4d0cfcfa4"
      },
      "outputs": [
        {
          "output_type": "stream",
          "name": "stdout",
          "text": [
            "{'nombre': 'sara', 'edad': 27, 'documento': 10010010}\n"
          ]
        }
      ],
      "source": [
        "d1 ={\n",
        "    \"nombre\": \"sara\",\n",
        "    \"edad\": 27,\n",
        "    \"documento\": 10010010\n",
        "}\n",
        "\n",
        "print(d1)"
      ]
    },
    {
      "cell_type": "code",
      "source": [
        "d1 ={\n",
        "    \"nombre\": \"alan\",\n",
        "    \"edad\": 28,\n",
        "    \"documento\": 10010010\n",
        "}\n",
        "\n",
        "print(d1)"
      ],
      "metadata": {
        "colab": {
          "base_uri": "https://localhost:8080/"
        },
        "id": "Y37xIjdwnMg0",
        "outputId": "9260a8f6-ae85-49ad-8c71-80dad831d7c9"
      },
      "execution_count": 4,
      "outputs": [
        {
          "output_type": "stream",
          "name": "stdout",
          "text": [
            "{'nombre': 'alan', 'edad': 28, 'documento': 10010010}\n"
          ]
        }
      ]
    },
    {
      "cell_type": "code",
      "source": [
        "d2 = dict({\n",
        "    (\"nombre\" ,\"alan\"),\n",
        "    (\"edad\", 28),\n",
        "    (\"documento\", 10010010),\n",
        "})\n",
        "\n",
        "print(d2)"
      ],
      "metadata": {
        "colab": {
          "base_uri": "https://localhost:8080/"
        },
        "id": "AYzTKnDooCUb",
        "outputId": "0a75111c-0a28-4773-b918-53fe540fae7a"
      },
      "execution_count": 9,
      "outputs": [
        {
          "output_type": "stream",
          "name": "stdout",
          "text": [
            "{'nombre': 'alan', 'documento': 10010010, 'edad': 28}\n"
          ]
        }
      ]
    },
    {
      "cell_type": "code",
      "source": [
        "d3=dict(nombre=\"alan\", edad=28, documento=10010010)\n",
        "print(d3)"
      ],
      "metadata": {
        "colab": {
          "base_uri": "https://localhost:8080/"
        },
        "id": "DFUr5N1uow6V",
        "outputId": "daf3b15a-8c2f-4ca4-acc4-0f1d3d32ad02"
      },
      "execution_count": 11,
      "outputs": [
        {
          "output_type": "stream",
          "name": "stdout",
          "text": [
            "{'nombre': 'alan', 'edad': 28, 'documento': 10010010}\n"
          ]
        }
      ]
    },
    {
      "cell_type": "code",
      "source": [
        "print(d1['nombre']) #accerder a un elemento del diccionario\n",
        "print(d1['edad'])\n",
        "print(d1.get('nombre'))\n",
        "print(d1.get('edad'))"
      ],
      "metadata": {
        "colab": {
          "base_uri": "https://localhost:8080/"
        },
        "id": "eIDKxFoUpsYV",
        "outputId": "9238f81f-a466-4463-e0d2-96dc043ef886"
      },
      "execution_count": 13,
      "outputs": [
        {
          "output_type": "stream",
          "name": "stdout",
          "text": [
            "alan\n",
            "28\n",
            "alan\n",
            "28\n"
          ]
        }
      ]
    },
    {
      "cell_type": "code",
      "source": [
        "d1 ['nombre'] = \"laura\" #editar\n",
        "print(d1)"
      ],
      "metadata": {
        "colab": {
          "base_uri": "https://localhost:8080/"
        },
        "id": "XRBe0MdBqxJE",
        "outputId": "59a6b8a2-1815-49be-9213-acd516c444cb"
      },
      "execution_count": 20,
      "outputs": [
        {
          "output_type": "stream",
          "name": "stdout",
          "text": [
            "{'nombre': 'laura', 'edad': 28, 'documento': 10010010}\n"
          ]
        }
      ]
    },
    {
      "cell_type": "code",
      "source": [
        "d1 ['dirección'] = \"av sprindfiel cll 123 siempre viva\" # agregar elemento\n",
        "print(d1)"
      ],
      "metadata": {
        "colab": {
          "base_uri": "https://localhost:8080/"
        },
        "id": "ZY9P4on8q5vE",
        "outputId": "ab1c7382-9bee-4424-b4af-88ab523011e1"
      },
      "execution_count": 21,
      "outputs": [
        {
          "output_type": "stream",
          "name": "stdout",
          "text": [
            "{'nombre': 'laura', 'edad': 28, 'documento': 10010010, 'dirección': 'av sprindfiel cll 123 siempre viva'}\n"
          ]
        }
      ]
    },
    {
      "cell_type": "code",
      "source": [
        "for x in d1: #es para iterar\n",
        "  print(x)# imprime los key del diccionario"
      ],
      "metadata": {
        "colab": {
          "base_uri": "https://localhost:8080/"
        },
        "id": "bAta0KJyr-DF",
        "outputId": "9211efe5-8af7-48d8-fbf2-a58ca2514795"
      },
      "execution_count": 22,
      "outputs": [
        {
          "output_type": "stream",
          "name": "stdout",
          "text": [
            "nombre\n",
            "edad\n",
            "documento\n",
            "dirección\n"
          ]
        }
      ]
    },
    {
      "cell_type": "code",
      "source": [
        "for x in d1: #es para iterar\n",
        "  print(d1[x])# imprime los valores"
      ],
      "metadata": {
        "colab": {
          "base_uri": "https://localhost:8080/"
        },
        "id": "eqVhju3asXzc",
        "outputId": "da2bfb80-281f-4414-b947-3c161ade37a3"
      },
      "execution_count": 23,
      "outputs": [
        {
          "output_type": "stream",
          "name": "stdout",
          "text": [
            "laura\n",
            "28\n",
            "10010010\n",
            "av sprindfiel cll 123 siempre viva\n"
          ]
        }
      ]
    },
    {
      "cell_type": "code",
      "source": [
        "for x , y in d1.items():# imrimir key y value\n",
        "  print(x,y)"
      ],
      "metadata": {
        "colab": {
          "base_uri": "https://localhost:8080/"
        },
        "id": "dSx3VN3QtTaU",
        "outputId": "cce096d8-d216-4cf8-c046-35369f3efaf4"
      },
      "execution_count": 26,
      "outputs": [
        {
          "output_type": "stream",
          "name": "stdout",
          "text": [
            "nombre laura\n",
            "edad 28\n",
            "documento 10010010\n",
            "dirección av sprindfiel cll 123 siempre viva\n"
          ]
        }
      ]
    },
    {
      "cell_type": "code",
      "source": [
        "anidado1={'a':1, 'b':2}\n",
        "anidado2={'a':1, 'b':2}\n",
        "d={ # el diccionario d contiene el anidado 1 y 2\n",
        "    \"anidado1\": anidado1,\n",
        "    \"anidado2\": anidado2\n",
        "}\n",
        "print(d)\n"
      ],
      "metadata": {
        "colab": {
          "base_uri": "https://localhost:8080/"
        },
        "id": "RW9sdVSluKyt",
        "outputId": "41ac7fa2-2e24-417c-d679-015bd48b1e7b"
      },
      "execution_count": 28,
      "outputs": [
        {
          "output_type": "stream",
          "name": "stdout",
          "text": [
            "{'anidado1': {'a': 1, 'b': 2}, 'anidado2': {'a': 1, 'b': 2}}\n"
          ]
        }
      ]
    },
    {
      "cell_type": "code",
      "source": [
        "# metodo clear , eliminna todo del diccionario\n",
        "d={'a':1, 'b':2}\n",
        "d.clear()\n",
        "print(d)\n"
      ],
      "metadata": {
        "colab": {
          "base_uri": "https://localhost:8080/"
        },
        "id": "Yev70Y_2u9rV",
        "outputId": "dccaad56-5822-43e7-a135-0545ad175ebb"
      },
      "execution_count": 29,
      "outputs": [
        {
          "output_type": "stream",
          "name": "stdout",
          "text": [
            "{}\n"
          ]
        }
      ]
    },
    {
      "cell_type": "code",
      "source": [
        "#get nos permite consultar el valor  de uin key determinado\n",
        "d={'a':1, 'b':2}\n",
        "print(d.get('a'))\n",
        "print(d.get('z', 'no encontrado'))"
      ],
      "metadata": {
        "colab": {
          "base_uri": "https://localhost:8080/"
        },
        "id": "cPbmEyG7wtde",
        "outputId": "8a4e4af9-7f07-4a57-d464-dd8f5876d27c"
      },
      "execution_count": 32,
      "outputs": [
        {
          "output_type": "stream",
          "name": "stdout",
          "text": [
            "1\n",
            "no encontrado\n"
          ]
        }
      ]
    },
    {
      "cell_type": "code",
      "source": [
        "  # items\n",
        "\n",
        "  d={'a':1, 'b':2}\n",
        "  it =d.items()\n",
        "  print(it)\n",
        "  print(list(it))\n",
        "  print(list(it)[0][0])"
      ],
      "metadata": {
        "colab": {
          "base_uri": "https://localhost:8080/"
        },
        "id": "Q31tI_5hxaCG",
        "outputId": "ac669425-8f00-4a2d-a089-4df986af451f"
      },
      "execution_count": 34,
      "outputs": [
        {
          "output_type": "stream",
          "name": "stdout",
          "text": [
            "dict_items([('a', 1), ('b', 2)])\n",
            "[('a', 1), ('b', 2)]\n",
            "a\n"
          ]
        }
      ]
    },
    {
      "cell_type": "code",
      "source": [
        " #keys\n",
        " d={'a':1, 'b':2}\n",
        " k=d.keys()\n",
        " print(k)\n",
        " print(list(k))"
      ],
      "metadata": {
        "colab": {
          "base_uri": "https://localhost:8080/"
        },
        "id": "0j9Mtt2LyUfN",
        "outputId": "7c799db4-6f0a-432f-fc5a-94963d2d0072"
      },
      "execution_count": 35,
      "outputs": [
        {
          "output_type": "stream",
          "name": "stdout",
          "text": [
            "dict_keys(['a', 'b'])\n",
            "['a', 'b']\n"
          ]
        }
      ]
    },
    {
      "cell_type": "code",
      "source": [
        "#values\n",
        "d={'a':1, 'b':2}\n",
        "print(list(d.values()))"
      ],
      "metadata": {
        "colab": {
          "base_uri": "https://localhost:8080/"
        },
        "id": "Qz_DeXAEy48G",
        "outputId": "a6261914-8a38-4661-c5e9-9ffcfa7b5ac3"
      },
      "execution_count": 37,
      "outputs": [
        {
          "output_type": "stream",
          "name": "stdout",
          "text": [
            "[1, 2]\n"
          ]
        }
      ]
    },
    {
      "cell_type": "code",
      "source": [
        "# pop, busca y elimina la key\n",
        "d={'a':1, 'b':2}\n",
        "d.pop('a')\n",
        "print(d)"
      ],
      "metadata": {
        "colab": {
          "base_uri": "https://localhost:8080/"
        },
        "id": "S8F8MseTzUYG",
        "outputId": "23e941d4-763d-4666-d4ce-72802818e329"
      },
      "execution_count": 38,
      "outputs": [
        {
          "output_type": "stream",
          "name": "stdout",
          "text": [
            "{'b': 2}\n"
          ]
        }
      ]
    },
    {
      "cell_type": "code",
      "source": [
        "d={'a':1, 'b':2}\n",
        "d.pop('c' , -1)\n",
        "print(d)"
      ],
      "metadata": {
        "colab": {
          "base_uri": "https://localhost:8080/"
        },
        "id": "JIJDlqyvzy7e",
        "outputId": "0be452ae-7280-424b-fdbf-fc1c20ca37cd"
      },
      "execution_count": 39,
      "outputs": [
        {
          "output_type": "stream",
          "name": "stdout",
          "text": [
            "{'a': 1, 'b': 2}\n"
          ]
        }
      ]
    },
    {
      "cell_type": "code",
      "source": [
        "#pop item elimina de manera aleatoria cualquier elemento\n",
        "d={'a':1, 'b':2}\n",
        "d.popitem()\n",
        "print(d)"
      ],
      "metadata": {
        "colab": {
          "base_uri": "https://localhost:8080/"
        },
        "id": "CeXmvmLb0ne3",
        "outputId": "73fbed6f-bac3-4b8e-eb74-f24369b42af9"
      },
      "execution_count": 43,
      "outputs": [
        {
          "output_type": "stream",
          "name": "stdout",
          "text": [
            "{'a': 1}\n"
          ]
        }
      ]
    },
    {
      "cell_type": "code",
      "source": [
        "#update actualiza y si no esta lo añade\n",
        "d1={'a':1, 'b':2}\n",
        "d2={'a':0, 'd':400}\n",
        "d1.update(d2)\n",
        "print(d1)\n",
        "\n"
      ],
      "metadata": {
        "colab": {
          "base_uri": "https://localhost:8080/"
        },
        "id": "FPahsO7H0ugX",
        "outputId": "a05cdb63-51e2-4147-ebae-bfde1e96ab56"
      },
      "execution_count": 45,
      "outputs": [
        {
          "output_type": "stream",
          "name": "stdout",
          "text": [
            "{'a': 0, 'b': 2, 'd': 400}\n"
          ]
        }
      ]
    }
  ]
}