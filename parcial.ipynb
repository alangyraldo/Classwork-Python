{
  "nbformat": 4,
  "nbformat_minor": 0,
  "metadata": {
    "colab": {
      "provenance": []
    },
    "kernelspec": {
      "name": "python3",
      "display_name": "Python 3"
    },
    "language_info": {
      "name": "python"
    }
  },
  "cells": [
    {
      "cell_type": "code",
      "execution_count": null,
      "metadata": {
        "id": "xOmF9CNR0YMy"
      },
      "outputs": [],
      "source": [
        "# 1.\n",
        "\n",
        "carrito=[]\n",
        "\n",
        "print(\"bienvenido al carrito\")\n",
        "\n",
        "while True:\n",
        "  print(\"\\n que quieres hacer?\")\n",
        "  print(\"1 agregar\")\n",
        "  print(\"2 eliminar\")\n",
        "  print(\"3 ver carrito\")\n",
        "  print(\"4 salair\")\n",
        "\n",
        "  op=input(\"elige (1-4)\")\n",
        "\n",
        "  if op==\"1\":\n",
        "    prod=input(\"escribe el nombre\")\n",
        "    carrito.append(prod)\n",
        "    print(f\"fue agregado {prod}\")\n",
        "\n",
        "  elif op==\"2\":\n",
        "    if len(carrito)==0:\n",
        "      print(\"el carrito esta vacio\")\n",
        "    else:\n",
        "      prod=input(\"escribe el nombre\")\n",
        "      if prod in carrito:\n",
        "        carrito.remove(prod)\n",
        "\n",
        "      else:\n",
        "        print(f\"{prod} no esta en el carrito\")\n",
        "  elif op==\"4\":\n",
        "    print(\"gracias por usar el carrito\")\n",
        "    break"
      ]
    },
    {
      "cell_type": "code",
      "source": [
        "# 2.\n",
        "\n",
        "roles_validos = (\"admin\",\"editor\",\"visitante\")\n",
        "usuarios = []\n",
        "\n",
        "print(\"registro de usuarios con roles\")\n",
        "\n",
        "while True:\n",
        "  nombre = input(\"ingrese su nombre\").strip()\n",
        "  rol = input(\"ingrese su rol\").strip().lower()\n",
        "\n",
        "  if rol in roles_validos:\n",
        "    usuario=(nombre,rol)\n",
        "    usuarios.append(usuario)\n",
        "    print(f\"usuario es {usuario}\")\n",
        "  else:\n",
        "    print(\"rol no valido intenta con (admin, editor)\")\n",
        "    print(\"lista actual\")\n",
        "    for u in usuarios:\n",
        "      print(f\"-{u[0]}, ({u[1]})\")"
      ],
      "metadata": {
        "id": "AJDNK_sS21Ua"
      },
      "execution_count": null,
      "outputs": []
    },
    {
      "cell_type": "code",
      "source": [
        "#4.\n",
        "votacion = {\n",
        "    \"rojo\": 12,\n",
        "    \"negro\": 20,\n",
        "    \"azul\": 5,\n",
        "    \"amarillo\": 10\n",
        "}\n",
        "\n",
        "vot_p = input(\"Introducir el color a votar: \").lower()\n",
        "\n",
        "if vot_p in votacion:\n",
        "    votacion[vot_p] += 1\n",
        "    print(f\"Gracias por votar por el color '{vot_p}'. Ahora tiene {votacion[vot_p]} votos.\")\n",
        "else:\n",
        "    print(f\"No se encontró el color '{vot_p}' en el diccionario.\")\n"
      ],
      "metadata": {
        "colab": {
          "base_uri": "https://localhost:8080/"
        },
        "id": "GSbxFR1W2Diy",
        "outputId": "f116f06d-94ad-44c6-d07b-e42852b73a6a"
      },
      "execution_count": null,
      "outputs": [
        {
          "output_type": "stream",
          "name": "stdout",
          "text": [
            "Introducir el color a votar: negro\n",
            "Gracias por votar por el color 'negro'. Ahora tiene 21 votos.\n"
          ]
        }
      ]
    }
  ]
}