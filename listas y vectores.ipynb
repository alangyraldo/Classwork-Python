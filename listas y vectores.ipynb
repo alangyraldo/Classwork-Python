{
  "nbformat": 4,
  "nbformat_minor": 0,
  "metadata": {
    "colab": {
      "provenance": []
    },
    "kernelspec": {
      "name": "python3",
      "display_name": "Python 3"
    },
    "language_info": {
      "name": "python"
    }
  },
  "cells": [
    {
      "cell_type": "code",
      "execution_count": 20,
      "metadata": {
        "colab": {
          "base_uri": "https://localhost:8080/"
        },
        "id": "IjGTIG-hyJet",
        "outputId": "0273d963-47f8-4bf8-f81d-66d39adae5ed"
      },
      "outputs": [
        {
          "output_type": "stream",
          "name": "stdout",
          "text": [
            "[10, 5, 3]\n"
          ]
        }
      ],
      "source": [
        "num =[]\n",
        "num = num + [10, 5, 3]\n",
        "\n",
        "\n",
        "print(num)"
      ]
    },
    {
      "cell_type": "code",
      "source": [
        "palabras = [\"adidas\",\"colombia\",\"argentina\", \"brasil\", \"alemania\"]\n",
        "\n",
        "palabras.pop(-2,) #se esta eliminado un elemento de la lista\n",
        "palabras.pop(2,)\n",
        "\n",
        "print(palabras)"
      ],
      "metadata": {
        "colab": {
          "base_uri": "https://localhost:8080/"
        },
        "id": "szHZPRiBzQhe",
        "outputId": "438a3291-0885-4581-d08d-0a824a08cf73"
      },
      "execution_count": 16,
      "outputs": [
        {
          "output_type": "stream",
          "name": "stdout",
          "text": [
            "['adidas', 'colombia', 'alemania']\n"
          ]
        }
      ]
    },
    {
      "cell_type": "code",
      "source": [
        "palabras = [\"hola\", \"hello\", \"ciao\", \"salute\", \"hello\"]\n",
        "\n",
        "palabras.remove(\"hello\") #se esta eliminado un elemento de la lista\n",
        "palabras.remove(\"hola\")\n",
        "\n",
        "print(palabras)#con esto imprime las palabras o elementos que no fueron eliminados"
      ],
      "metadata": {
        "colab": {
          "base_uri": "https://localhost:8080/"
        },
        "id": "lL3gckCA02HF",
        "outputId": "04777469-2a7f-4c12-9610-f8bfc164bf96"
      },
      "execution_count": 21,
      "outputs": [
        {
          "output_type": "stream",
          "name": "stdout",
          "text": [
            "['ciao', 'salute', 'hello']\n"
          ]
        }
      ]
    },
    {
      "cell_type": "code",
      "source": [
        "personas = [\n",
        "    {\"nombre\": \"Juan\", \"documento\": \"12345678\"},\n",
        "    {\"nombre\": \"Ana\", \"documento\": \"23456789\"},\n",
        "    {\"nombre\": \"Luis\", \"documento\": \"34567890\"}\n",
        "]\n",
        "\n",
        "\n",
        "for persona in personas:\n",
        "    print(f\"Nombre: {persona['nombre']}, Documento: {persona['documento']}\")"
      ],
      "metadata": {
        "colab": {
          "base_uri": "https://localhost:8080/"
        },
        "id": "JQLWoiNh19BU",
        "outputId": "d98ead7c-6363-4be0-8a2e-2a419b4148da"
      },
      "execution_count": 25,
      "outputs": [
        {
          "output_type": "stream",
          "name": "stdout",
          "text": [
            "Nombre: Juan, Documento: 12345678\n",
            "Nombre: Ana, Documento: 23456789\n",
            "Nombre: Luis, Documento: 34567890\n"
          ]
        }
      ]
    },
    {
      "cell_type": "code",
      "source": [
        "nombres = []\n",
        "identificaciones = []\n",
        "direcciones = []\n",
        "\n",
        "# Definir el tamaño de las listas\n",
        "tamaño = 3\n",
        "\n",
        "# Leemos datos y agregamos a las listas\n",
        "for i in range(tamaño):\n",
        "    print(f\"Ingrese los datos de la persona {i + 1}\")\n",
        "    nombre = input(\"Nombre: \")\n",
        "    identificacion = input(\"Identificación: \")\n",
        "    direccion = input(\"Dirección: \")\n",
        "\n",
        "    # Agregar a las listas correspondientes\n",
        "    nombres.append(nombre)  # Aquí se usa la lista \"nombres\" correctamente\n",
        "    identificaciones.append(identificacion)  # Usamos \"identificaciones\"\n",
        "    direcciones.append(direccion)  # Usamos \"direcciones\"\n",
        "\n",
        "# Ahora mostramos las listas\n",
        "for i in range(tamaño):\n",
        "    print(f\"Mostrando los datos de la persona {i + 1}\")\n",
        "    print(\"Nombre:\", nombres[i])\n",
        "    print(\"Identificación:\", identificaciones[i])\n",
        "    print(\"Dirección:\", direcciones[i])"
      ],
      "metadata": {
        "colab": {
          "base_uri": "https://localhost:8080/"
        },
        "id": "bvP1paEo4nw0",
        "outputId": "73ff2726-ba58-4278-839b-0e0607b0de64"
      },
      "execution_count": 37,
      "outputs": [
        {
          "output_type": "stream",
          "name": "stdout",
          "text": [
            "Ingrese los datos de la persona 1\n",
            "Nombre: asdasd\n",
            "Identificación: 12312\n",
            "Dirección: asdasdas\n",
            "Ingrese los datos de la persona 2\n",
            "Nombre: asdasd\n",
            "Identificación: 123321\n",
            "Dirección: asdasd2\n",
            "Ingrese los datos de la persona 3\n",
            "Nombre: asdas\n",
            "Identificación: 1445\n",
            "Dirección: asdasd25\n",
            "Mostrando los datos de la persona 1\n",
            "Nombre: asdasd\n",
            "Identificación: 12312\n",
            "Dirección: asdasdas\n",
            "Mostrando los datos de la persona 2\n",
            "Nombre: asdasd\n",
            "Identificación: 123321\n",
            "Dirección: asdasd2\n",
            "Mostrando los datos de la persona 3\n",
            "Nombre: asdas\n",
            "Identificación: 1445\n",
            "Dirección: asdasd25\n"
          ]
        }
      ]
    },
    {
      "cell_type": "code",
      "source": [
        "import numpy as np\n",
        "\n",
        "# Lista con los números correctamente separados por comas\n",
        "lst = [10, 20, 30, 40, 50]\n",
        "\n",
        "# Convertir la lista a un arreglo de NumPy\n",
        "vctr = np.array(lst)\n",
        "\n",
        "# Mostrar el vector creado\n",
        "print(\"Vector creado desde una lista:\")\n",
        "print(vctr)"
      ],
      "metadata": {
        "colab": {
          "base_uri": "https://localhost:8080/"
        },
        "id": "RdqvtQmx7yXK",
        "outputId": "7e81dd9a-36ec-4ffc-c461-9516d46d5dd7"
      },
      "execution_count": 43,
      "outputs": [
        {
          "output_type": "stream",
          "name": "stdout",
          "text": [
            "Vector creado desde una lista:\n",
            "[10 20 30 40 50]\n"
          ]
        }
      ]
    },
    {
      "cell_type": "code",
      "source": [
        "import numpy as np\n",
        "\n",
        "# Lista con los números correctamente separados por comas\n",
        "lst = [\"DARIAN\", \"PAKA\", \"LORENA\", \"BRAYAN\"]\n",
        "\n",
        "# Convertir la lista a un arreglo de NumPy\n",
        "vctr = np.array(lst)\n",
        "\n",
        "# Mostrar el vector creado\n",
        "print(\"Vector creado desde una lista:\")\n",
        "print(vctr)"
      ],
      "metadata": {
        "colab": {
          "base_uri": "https://localhost:8080/"
        },
        "id": "qit7vzSk-t9q",
        "outputId": "2ad2494a-736f-4bb1-dbc2-2ef3ca66488f"
      },
      "execution_count": 45,
      "outputs": [
        {
          "output_type": "stream",
          "name": "stdout",
          "text": [
            "Vector creado desde una lista:\n",
            "['DARIAN' 'PAKA' 'LORENA' 'BRAYAN']\n"
          ]
        }
      ]
    },
    {
      "cell_type": "code",
      "source": [
        "import numpy as np\n",
        "\n",
        "# Lista con los números correctamente separados por comas\n",
        "lst = [\"PERA\", \"BANANO\",\"MANZANA\"]\n",
        "\n",
        "# Convertir la lista a un arreglo de NumPy\n",
        "vctr = np.array(lst)\n",
        "\n",
        "# Mostrar el vector creado\n",
        "print(\"Vector creado desde una lista:\")\n",
        "print(vctr)"
      ],
      "metadata": {
        "colab": {
          "base_uri": "https://localhost:8080/"
        },
        "id": "R7-zVrsY-3gq",
        "outputId": "af439260-3fd4-4f76-82c9-ffd9baa25baa"
      },
      "execution_count": 48,
      "outputs": [
        {
          "output_type": "stream",
          "name": "stdout",
          "text": [
            "Vector creado desde una lista:\n",
            "['PERA' 'BANANO' 'MANZANA']\n"
          ]
        }
      ]
    },
    {
      "cell_type": "code",
      "source": [
        "import numpy as np\n",
        "lst = [[10], [20], [30], [40], [50]]\n",
        "vctr = np.array(lst)\n",
        "\n",
        "# Mostrar el vector creado\n",
        "print(\"Vector creado desde una lista:\")\n",
        "print(vctr)\n"
      ],
      "metadata": {
        "colab": {
          "base_uri": "https://localhost:8080/"
        },
        "id": "flPId4-Y-_BJ",
        "outputId": "b3b8697d-c08f-4c39-83d2-449acd866e96"
      },
      "execution_count": 51,
      "outputs": [
        {
          "output_type": "stream",
          "name": "stdout",
          "text": [
            "Vector creado desde una lista:\n",
            "[[10]\n",
            " [20]\n",
            " [30]\n",
            " [40]\n",
            " [50]]\n"
          ]
        }
      ]
    },
    {
      "cell_type": "code",
      "source": [
        "import numpy as np\n",
        "lst = [[\"ITZZA\"], [\"NICOLAS\"], [\"VELANDIA\"], [\"DANIEL\"], [\"ARTEAGA\"]]\n",
        "vctr = np.array(lst)\n",
        "\n",
        "# Mostrar el vector creado\n",
        "print(\"Vector creado desde una lista:\")\n",
        "print(vctr)"
      ],
      "metadata": {
        "colab": {
          "base_uri": "https://localhost:8080/"
        },
        "id": "EbjBjldS_Ylc",
        "outputId": "00f85ffe-c170-442f-bbf2-e293fd7fae64"
      },
      "execution_count": 53,
      "outputs": [
        {
          "output_type": "stream",
          "name": "stdout",
          "text": [
            "Vector creado desde una lista:\n",
            "[['ITZZA']\n",
            " ['NICOLAS']\n",
            " ['VELANDIA']\n",
            " ['DANIEL']\n",
            " ['ARTEAGA']]\n"
          ]
        }
      ]
    },
    {
      "cell_type": "code",
      "source": [
        "import numpy as np\n",
        "lst = [[\"PIZZA\"], [\"SALCHIPAPA\"], [\"CHORIPERRO\"], [\"COMBINADO\"], [\"AGUA DE PANELA\"]]\n",
        "vctr = np.array(lst)\n",
        "\n",
        "# Mostrar el vector creado\n",
        "print(\"Vector creado desde una lista:\")\n",
        "print(vctr)"
      ],
      "metadata": {
        "colab": {
          "base_uri": "https://localhost:8080/"
        },
        "id": "CrfN9YWh_isE",
        "outputId": "d8a292e9-82f6-4e82-8ff2-136eaa34550b"
      },
      "execution_count": 55,
      "outputs": [
        {
          "output_type": "stream",
          "name": "stdout",
          "text": [
            "Vector creado desde una lista:\n",
            "[['PIZZA']\n",
            " ['SALCHIPAPA']\n",
            " ['CHORIPERRO']\n",
            " ['COMBINADO']\n",
            " ['AGUA DE PANELA']]\n"
          ]
        }
      ]
    },
    {
      "cell_type": "code",
      "source": [
        "import numpy as np\n",
        "\n",
        "lista1 = [10,20,30,40,50] # se crean las listas\n",
        "lista2=[ 1,2,3,4,5]\n",
        "\n",
        "vctr1 =np.array(lista1)\n",
        "vctr2 =np.array(lista2) # se crean los vectores\n",
        "\n",
        "#se imprime los valores de cada vector segun las lista\n",
        "print(\"vector creado de la lista 1:\")\n",
        "print(vctr1)\n",
        "print(\"vector creado de la lista 2:\")\n",
        "print(vctr2)\n",
        "\n",
        "# se  realiza la suma\n",
        "vctr_add = vctr1+vctr2\n",
        "print(\"la respues es: \" , vctr_add)"
      ],
      "metadata": {
        "colab": {
          "base_uri": "https://localhost:8080/"
        },
        "id": "sgCVnxjo__Tm",
        "outputId": "d41d69ed-9ae2-4c84-a3fd-0c9f2ede0ae4"
      },
      "execution_count": 59,
      "outputs": [
        {
          "output_type": "stream",
          "name": "stdout",
          "text": [
            "vector creado de la lista 1:\n",
            "[10 20 30 40 50]\n",
            "vector creado de la lista 2:\n",
            "[1 2 3 4 5]\n",
            "la respues es:  [11 22 33 44 55]\n"
          ]
        }
      ]
    },
    {
      "cell_type": "code",
      "source": [
        "import numpy as np\n",
        "\n",
        "lista1 = [10,20,30,40,50]\n",
        "lista2=[ 1,2,3,4,5,6 ,7]\n",
        "# en este caso nos dara sintax error por que el tamaño de las listas es diferente\n",
        "\n",
        "vctr1 =np.array(lista1)\n",
        "vctr2 =np.array(lista2)\n",
        "\n",
        "print(\"vector creado de la lista 1:\")\n",
        "print(vctr1)\n",
        "print(\"vector creado de la lista 2:\")\n",
        "print(vctr2)\n",
        "\n",
        "\n",
        "vctr_add = vctr1+vctr2\n",
        "print(\"la respues es: \" , vctr_add)"
      ],
      "metadata": {
        "colab": {
          "base_uri": "https://localhost:8080/",
          "height": 263
        },
        "id": "WgsQZIWlBMCo",
        "outputId": "bfd9983c-ec3e-4600-a785-361857bf7c7b"
      },
      "execution_count": 61,
      "outputs": [
        {
          "output_type": "stream",
          "name": "stdout",
          "text": [
            "vector creado de la lista 1:\n",
            "[10 20 30 40 50]\n",
            "vector creado de la lista 2:\n",
            "[1 2 3 4 5 6 7]\n"
          ]
        },
        {
          "output_type": "error",
          "ename": "ValueError",
          "evalue": "operands could not be broadcast together with shapes (5,) (7,) ",
          "traceback": [
            "\u001b[0;31m---------------------------------------------------------------------------\u001b[0m",
            "\u001b[0;31mValueError\u001b[0m                                Traceback (most recent call last)",
            "\u001b[0;32m/tmp/ipython-input-3462456816.py\u001b[0m in \u001b[0;36m<cell line: 0>\u001b[0;34m()\u001b[0m\n\u001b[1;32m     13\u001b[0m \u001b[0;34m\u001b[0m\u001b[0m\n\u001b[1;32m     14\u001b[0m \u001b[0;34m\u001b[0m\u001b[0m\n\u001b[0;32m---> 15\u001b[0;31m \u001b[0mvctr_add\u001b[0m \u001b[0;34m=\u001b[0m \u001b[0mvctr1\u001b[0m\u001b[0;34m+\u001b[0m\u001b[0mvctr2\u001b[0m\u001b[0;34m\u001b[0m\u001b[0;34m\u001b[0m\u001b[0m\n\u001b[0m\u001b[1;32m     16\u001b[0m \u001b[0mprint\u001b[0m\u001b[0;34m(\u001b[0m\u001b[0;34m\"la respues es: \"\u001b[0m \u001b[0;34m,\u001b[0m \u001b[0mvctr_add\u001b[0m\u001b[0;34m)\u001b[0m\u001b[0;34m\u001b[0m\u001b[0;34m\u001b[0m\u001b[0m\n",
            "\u001b[0;31mValueError\u001b[0m: operands could not be broadcast together with shapes (5,) (7,) "
          ]
        }
      ]
    },
    {
      "cell_type": "code",
      "source": [
        "import numpy as np\n",
        "\n",
        "lista1 = [10,20,30,40,50] # se crean las listas\n",
        "lista2=[ 1,2,3,4,5]\n",
        "\n",
        "vctr1 =np.array(lista1)\n",
        "vctr2 =np.array(lista2) # se crean los vectores\n",
        "\n",
        "#se imprime los valores de cada vector segun las lista\n",
        "print(\"vector creado de la lista 1:\")\n",
        "print(vctr1)\n",
        "print(\"vector creado de la lista 2:\")\n",
        "print(vctr2)\n",
        "\n",
        "# se  realiza la resta\n",
        "vctr_add = vctr1-vctr2\n",
        "print(\"la respues es: \" , vctr_add)"
      ],
      "metadata": {
        "colab": {
          "base_uri": "https://localhost:8080/"
        },
        "id": "Iwdb6aeABktx",
        "outputId": "5b0e7d40-87b3-465b-d83e-531125e22fcf"
      },
      "execution_count": 63,
      "outputs": [
        {
          "output_type": "stream",
          "name": "stdout",
          "text": [
            "vector creado de la lista 1:\n",
            "[10 20 30 40 50]\n",
            "vector creado de la lista 2:\n",
            "[1 2 3 4 5]\n",
            "la respues es:  [ 9 18 27 36 45]\n"
          ]
        }
      ]
    },
    {
      "cell_type": "code",
      "source": [
        "import numpy as np\n",
        "\n",
        "lista1 = [10,20,30,40,50] # se crean las listas\n",
        "lista2=[ 1,2,3,4,5]\n",
        "\n",
        "vctr1 =np.array(lista1)\n",
        "vctr2 =np.array(lista2) # se crean los vectores\n",
        "\n",
        "#se imprime los valores de cada vector segun las lista\n",
        "print(\"vector creado de la lista 1:\")\n",
        "print(vctr1)\n",
        "print(\"vector creado de la lista 2:\")\n",
        "print(vctr2)\n",
        "\n",
        "# se  realiza la multiplicación\n",
        "vctr_add = vctr1*vctr2\n",
        "print(\"la respues es: \" , vctr_add)"
      ],
      "metadata": {
        "colab": {
          "base_uri": "https://localhost:8080/"
        },
        "id": "smZ58y5wB1RL",
        "outputId": "3447a44a-4a3b-446c-82e4-2d43d8346d32"
      },
      "execution_count": 65,
      "outputs": [
        {
          "output_type": "stream",
          "name": "stdout",
          "text": [
            "vector creado de la lista 1:\n",
            "[10 20 30 40 50]\n",
            "vector creado de la lista 2:\n",
            "[1 2 3 4 5]\n",
            "la respues es:  [ 10  40  90 160 250]\n"
          ]
        }
      ]
    },
    {
      "cell_type": "code",
      "source": [
        "import numpy as np\n",
        "\n",
        "lista1 = [10,20,30,40,50] # se crean las listas\n",
        "lista2=[ 1,2,3,4,5]\n",
        "\n",
        "vctr1 =np.array(lista1)\n",
        "vctr2 =np.array(lista2) # se crean los vectores\n",
        "\n",
        "#se imprime los valores de cada vector segun las lista\n",
        "print(\"vector creado de la lista 1:\")\n",
        "print(vctr1)\n",
        "print(\"vector creado de la lista 2:\")\n",
        "print(vctr2)\n",
        "\n",
        "# se  realiza la divicion\n",
        "vctr_add = vctr1/vctr2\n",
        "print(\"la respues es: \" , vctr_add)"
      ],
      "metadata": {
        "colab": {
          "base_uri": "https://localhost:8080/"
        },
        "id": "iJXRr8MMB3-J",
        "outputId": "8208cfaa-cf24-42f4-f1f3-617715fc26b8"
      },
      "execution_count": 67,
      "outputs": [
        {
          "output_type": "stream",
          "name": "stdout",
          "text": [
            "vector creado de la lista 1:\n",
            "[10 20 30 40 50]\n",
            "vector creado de la lista 2:\n",
            "[1 2 3 4 5]\n",
            "la respues es:  [10. 10. 10. 10. 10.]\n"
          ]
        }
      ]
    },
    {
      "cell_type": "code",
      "source": [
        "import numpy as np\n",
        "\n",
        "lista1 = [10,20,30,40,50] # se crean las listas\n",
        "lista2=[ 1,1,1,1,1]\n",
        "\n",
        "vctr1 =np.array(lista1)\n",
        "vctr2 =np.array(lista2) # se crean los vectores\n",
        "\n",
        "#se imprime los valores de cada vector segun las lista\n",
        "print(\"vector creado de la lista 1:\")\n",
        "print(vctr1)\n",
        "print(\"vector creado de la lista 2:\")\n",
        "print(vctr2)\n",
        "\n",
        "# se  realiza la operación\n",
        "vctr_dot = vctr1.dot(vctr2)\n",
        "print(\"la respues es: \" , vctr_dot)"
      ],
      "metadata": {
        "colab": {
          "base_uri": "https://localhost:8080/"
        },
        "id": "z0uZJ7ujCpJq",
        "outputId": "b61308ad-b6de-4ea6-ecb4-5c1b90ff939c"
      },
      "execution_count": 71,
      "outputs": [
        {
          "output_type": "stream",
          "name": "stdout",
          "text": [
            "vector creado de la lista 1:\n",
            "[10 20 30 40 50]\n",
            "vector creado de la lista 2:\n",
            "[1 1 1 1 1]\n",
            "la respues es:  150\n"
          ]
        }
      ]
    },
    {
      "cell_type": "code",
      "source": [
        "import numpy as np\n",
        "\n",
        "lista1 = [10,20,30,40,50] # se crean las listas\n",
        "lista2=[ 2,2,2,2,2]\n",
        "\n",
        "vctr1 =np.array(lista1)\n",
        "vctr2 =np.array(lista2) # se crean los vectores\n",
        "\n",
        "#se imprime los valores de cada vector segun las lista\n",
        "print(\"vector creado de la lista 1:\")\n",
        "print(vctr1)\n",
        "print(\"vector creado de la lista 2:\")\n",
        "print(vctr2)\n",
        "\n",
        "# se  realiza la operación\n",
        "vctr_dot = vctr1.dot(vctr2)\n",
        "print(\"la respues es: \" , vctr_dot)"
      ],
      "metadata": {
        "colab": {
          "base_uri": "https://localhost:8080/"
        },
        "id": "oGrk-CgeDAfd",
        "outputId": "8e151205-fcac-4f32-df7d-75c8ef15d6db"
      },
      "execution_count": 73,
      "outputs": [
        {
          "output_type": "stream",
          "name": "stdout",
          "text": [
            "vector creado de la lista 1:\n",
            "[10 20 30 40 50]\n",
            "vector creado de la lista 2:\n",
            "[2 2 2 2 2]\n",
            "la respues es:  300\n"
          ]
        }
      ]
    }
  ]
}