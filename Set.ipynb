{
  "nbformat": 4,
  "nbformat_minor": 0,
  "metadata": {
    "colab": {
      "provenance": []
    },
    "kernelspec": {
      "name": "python3",
      "display_name": "Python 3"
    },
    "language_info": {
      "name": "python"
    }
  },
  "cells": [
    {
      "cell_type": "code",
      "execution_count": 2,
      "metadata": {
        "colab": {
          "base_uri": "https://localhost:8080/"
        },
        "id": "08wOGfiiil6A",
        "outputId": "9717fe69-188f-49ce-a91c-15ea1d2533e4"
      },
      "outputs": [
        {
          "output_type": "stream",
          "name": "stdout",
          "text": [
            "{8, 1, 4, 5}\n",
            "<class 'set'>\n"
          ]
        }
      ],
      "source": [
        "s= set([5, 4,8,8,1])\n",
        "print(s) #{1,4,5,6,8}\n",
        "print(type(s))"
      ]
    },
    {
      "cell_type": "code",
      "source": [
        "s= {5, 4, 6, 8, 8, 1 }\n",
        "print(s) #{1,4,5,6,8}\n",
        "print(type(s))"
      ],
      "metadata": {
        "colab": {
          "base_uri": "https://localhost:8080/"
        },
        "id": "OpI79MkJjnpv",
        "outputId": "a08bda24-b4a1-4962-ba63-67f4f82cd851"
      },
      "execution_count": 3,
      "outputs": [
        {
          "output_type": "stream",
          "name": "stdout",
          "text": [
            "{1, 4, 5, 6, 8}\n",
            "<class 'set'>\n"
          ]
        }
      ]
    },
    {
      "cell_type": "code",
      "source": [
        "s= set([5, 6, 7, 8 ])\n"
      ],
      "metadata": {
        "id": "cTFngX71j7eu"
      },
      "execution_count": 8,
      "outputs": []
    },
    {
      "cell_type": "code",
      "source": [
        "lista = [\"peru\", \"aegentina\"]\n",
        "s= set([\"mexico\", \"españa\", lista])"
      ],
      "metadata": {
        "colab": {
          "base_uri": "https://localhost:8080/",
          "height": 158
        },
        "id": "nGmK3pVDkMqG",
        "outputId": "d084def1-0816-4140-fea4-a4caf5a0a127"
      },
      "execution_count": 23,
      "outputs": [
        {
          "output_type": "error",
          "ename": "TypeError",
          "evalue": "unhashable type: 'list'",
          "traceback": [
            "\u001b[0;31m---------------------------------------------------------------------------\u001b[0m",
            "\u001b[0;31mTypeError\u001b[0m                                 Traceback (most recent call last)",
            "\u001b[0;32m/tmp/ipython-input-1165821341.py\u001b[0m in \u001b[0;36m<cell line: 0>\u001b[0;34m()\u001b[0m\n\u001b[1;32m      1\u001b[0m \u001b[0mlista\u001b[0m \u001b[0;34m=\u001b[0m \u001b[0;34m[\u001b[0m\u001b[0;34m\"peru\"\u001b[0m\u001b[0;34m,\u001b[0m \u001b[0;34m\"aegentina\"\u001b[0m\u001b[0;34m]\u001b[0m\u001b[0;34m\u001b[0m\u001b[0;34m\u001b[0m\u001b[0m\n\u001b[0;32m----> 2\u001b[0;31m \u001b[0ms\u001b[0m\u001b[0;34m=\u001b[0m \u001b[0mset\u001b[0m\u001b[0;34m(\u001b[0m\u001b[0;34m[\u001b[0m\u001b[0;34m\"mexico\"\u001b[0m\u001b[0;34m,\u001b[0m \u001b[0;34m\"españa\"\u001b[0m\u001b[0;34m,\u001b[0m \u001b[0mlista\u001b[0m\u001b[0;34m]\u001b[0m\u001b[0;34m)\u001b[0m\u001b[0;34m\u001b[0m\u001b[0;34m\u001b[0m\u001b[0m\n\u001b[0m",
            "\u001b[0;31mTypeError\u001b[0m: unhashable type: 'list'"
          ]
        }
      ]
    },
    {
      "cell_type": "code",
      "source": [
        "lista = [\"peru\", \"aegentina\"]\n",
        "lista.append(\"mexico\")\n",
        "lista.append(\"españa\")\n",
        "print(lista)"
      ],
      "metadata": {
        "colab": {
          "base_uri": "https://localhost:8080/"
        },
        "id": "eSI0Fr04lAGW",
        "outputId": "31973178-8b49-479c-cb22-3bcfbe4d1517"
      },
      "execution_count": 28,
      "outputs": [
        {
          "output_type": "stream",
          "name": "stdout",
          "text": [
            "['peru', 'aegentina', 'mexico', 'españa']\n"
          ]
        }
      ]
    },
    {
      "cell_type": "code",
      "source": [
        "s= set([5, 6, 7, 8])\n",
        "for ss in s:\n",
        "  print(ss)"
      ],
      "metadata": {
        "colab": {
          "base_uri": "https://localhost:8080/"
        },
        "id": "wx12uJM6llrG",
        "outputId": "563535dc-bc57-46bb-9a2b-d57b3daa3bbb"
      },
      "execution_count": 29,
      "outputs": [
        {
          "output_type": "stream",
          "name": "stdout",
          "text": [
            "8\n",
            "5\n",
            "6\n",
            "7\n"
          ]
        }
      ]
    },
    {
      "cell_type": "code",
      "source": [
        "s= set([1,2,2,3,4])\n",
        "print(len(s))"
      ],
      "metadata": {
        "colab": {
          "base_uri": "https://localhost:8080/"
        },
        "id": "69NHkmZ2mbj1",
        "outputId": "3ab35a8d-efcd-42db-9cda-835a9934619c"
      },
      "execution_count": 30,
      "outputs": [
        {
          "output_type": "stream",
          "name": "stdout",
          "text": [
            "4\n"
          ]
        }
      ]
    },
    {
      "cell_type": "code",
      "source": [
        "s={\"alan\",\"paka\",\"darian\", \"darian\"}\n",
        "print(len(s))\n",
        "print(type(s))"
      ],
      "metadata": {
        "colab": {
          "base_uri": "https://localhost:8080/"
        },
        "id": "xEh6urULmoYm",
        "outputId": "5e3e1160-637f-4bff-851a-c75fdaebe655"
      },
      "execution_count": 33,
      "outputs": [
        {
          "output_type": "stream",
          "name": "stdout",
          "text": [
            "3\n",
            "<class 'set'>\n"
          ]
        }
      ]
    },
    {
      "cell_type": "code",
      "source": [
        "s=set([\"guitarra\", \"bajo\"])\n",
        "print(\"guitarra\" in s)"
      ],
      "metadata": {
        "colab": {
          "base_uri": "https://localhost:8080/"
        },
        "id": "K6NtkpYanfzm",
        "outputId": "a98fb215-9566-44c9-8f55-446a4d946602"
      },
      "execution_count": 34,
      "outputs": [
        {
          "output_type": "stream",
          "name": "stdout",
          "text": [
            "True\n"
          ]
        }
      ]
    },
    {
      "cell_type": "code",
      "source": [
        "s=set([\"guitarra\", \"bajo\"])\n",
        "print(\"bateria\" in s)"
      ],
      "metadata": {
        "colab": {
          "base_uri": "https://localhost:8080/"
        },
        "id": "zmGq7cdCnrRt",
        "outputId": "51bf6af3-d2bb-4f1a-b7de-f992b905ebe5"
      },
      "execution_count": 35,
      "outputs": [
        {
          "output_type": "stream",
          "name": "stdout",
          "text": [
            "False\n"
          ]
        }
      ]
    },
    {
      "cell_type": "code",
      "source": [
        "s1=set([1,2,3])\n",
        "s2=set([3,4,5,])\n",
        "print(s1 | s2)"
      ],
      "metadata": {
        "colab": {
          "base_uri": "https://localhost:8080/"
        },
        "id": "kyFTG11mn3v9",
        "outputId": "538e816a-2e27-4fc6-f97c-afdd0db9ae7a"
      },
      "execution_count": 38,
      "outputs": [
        {
          "output_type": "stream",
          "name": "stdout",
          "text": [
            "{1, 2, 3, 4, 5}\n"
          ]
        }
      ]
    },
    {
      "cell_type": "code",
      "source": [
        "l=set([1,2])\n",
        "l.add(3)\n",
        "print(l)"
      ],
      "metadata": {
        "colab": {
          "base_uri": "https://localhost:8080/"
        },
        "id": "Nj2kCnA3op1-",
        "outputId": "83579ebf-eaf2-4379-f03b-58c9844858c9"
      },
      "execution_count": 40,
      "outputs": [
        {
          "output_type": "stream",
          "name": "stdout",
          "text": [
            "{1, 2, 3}\n"
          ]
        }
      ]
    },
    {
      "cell_type": "code",
      "source": [
        "s=set ([1,2])\n",
        "s.remove(2)\n",
        "print(s)"
      ],
      "metadata": {
        "colab": {
          "base_uri": "https://localhost:8080/"
        },
        "id": "ftFtPRxjpg4u",
        "outputId": "a80e0530-1c9d-4699-fd35-bcd09d50a38d"
      },
      "execution_count": 42,
      "outputs": [
        {
          "output_type": "stream",
          "name": "stdout",
          "text": [
            "{1}\n"
          ]
        }
      ]
    },
    {
      "cell_type": "code",
      "source": [
        "s=set ([1,2])\n",
        "s.discard(2)\n",
        "print(s)"
      ],
      "metadata": {
        "colab": {
          "base_uri": "https://localhost:8080/"
        },
        "id": "MEv1yTa7qujV",
        "outputId": "bf9592a5-f0ed-49ed-b4c8-567e9858b565"
      },
      "execution_count": 43,
      "outputs": [
        {
          "output_type": "stream",
          "name": "stdout",
          "text": [
            "{1}\n"
          ]
        }
      ]
    },
    {
      "cell_type": "code",
      "source": [
        "s=set ([1,2])\n",
        "s.pop()\n",
        "print(s)"
      ],
      "metadata": {
        "colab": {
          "base_uri": "https://localhost:8080/"
        },
        "id": "AjR5u0Iyq6Ft",
        "outputId": "38e1369b-f03c-4ccc-a2a1-ca2ed52621dd"
      },
      "execution_count": 48,
      "outputs": [
        {
          "output_type": "stream",
          "name": "stdout",
          "text": [
            "{2}\n"
          ]
        }
      ]
    },
    {
      "cell_type": "code",
      "source": [
        "s=set ([1,2])\n",
        "s.clear()\n",
        "print(s)"
      ],
      "metadata": {
        "colab": {
          "base_uri": "https://localhost:8080/"
        },
        "id": "1sxqg8flrIvl",
        "outputId": "04eec747-1f7f-4812-bcde-92402067e855"
      },
      "execution_count": 50,
      "outputs": [
        {
          "output_type": "stream",
          "name": "stdout",
          "text": [
            "set()\n"
          ]
        }
      ]
    },
    {
      "cell_type": "code",
      "source": [
        "s1={1,2,3}\n",
        "s2={3,4,5}\n",
        "print(s1.union(s2))"
      ],
      "metadata": {
        "colab": {
          "base_uri": "https://localhost:8080/"
        },
        "id": "Jdpl4KERrqZk",
        "outputId": "de21dab6-f1a2-4eed-c1a2-0972595347f5"
      },
      "execution_count": 51,
      "outputs": [
        {
          "output_type": "stream",
          "name": "stdout",
          "text": [
            "{1, 2, 3, 4, 5}\n"
          ]
        }
      ]
    },
    {
      "cell_type": "code",
      "source": [
        "s1={1,2,3}\n",
        "s2={3,4,5}\n",
        "print(s1.intersection(s2))"
      ],
      "metadata": {
        "colab": {
          "base_uri": "https://localhost:8080/"
        },
        "id": "SquCktpLsQ9W",
        "outputId": "5aac647f-f0d9-4bf3-a7e6-bc5ca40d5a0a"
      },
      "execution_count": 52,
      "outputs": [
        {
          "output_type": "stream",
          "name": "stdout",
          "text": [
            "{3}\n"
          ]
        }
      ]
    },
    {
      "cell_type": "code",
      "source": [
        "frontnd = set([\"html\", \"css\", \"js\", \"react\"])\n",
        "backnd = set([\"python\", \"sql\", \"js\", \"django\"])\n",
        "frontnd.add(\"vue.js\")\n",
        "backnd.remove(\"django\")\n",
        "diferencia = frontnd.difference(backnd)\n",
        "print(frontnd | backnd)\n",
        "print(frontnd.intersection(backnd))\n",
        "print(diferencia)\n",
        "\n",
        "\n",
        "\n"
      ],
      "metadata": {
        "colab": {
          "base_uri": "https://localhost:8080/"
        },
        "id": "f5n0iYTqsYgl",
        "outputId": "ece8a5c1-5ff7-4bf4-e051-0bad7722b6d1"
      },
      "execution_count": 58,
      "outputs": [
        {
          "output_type": "stream",
          "name": "stdout",
          "text": [
            "{'react', 'css', 'vue.js', 'python', 'js', 'sql', 'html'}\n",
            "{'js'}\n",
            "{'vue.js', 'react', 'css', 'html'}\n"
          ]
        }
      ]
    }
  ]
}