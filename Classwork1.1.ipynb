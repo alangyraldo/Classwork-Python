{
 "cells": [
  {
   "cell_type": "code",
   "execution_count": 1,
   "id": "573d2a49-7ead-45f3-bdb0-08dae4657e32",
   "metadata": {},
   "outputs": [
    {
     "name": "stdout",
     "output_type": "stream",
     "text": [
      "[1, 'alan', 2]\n",
      "[24, 2, 'adidas']\n",
      "1\n",
      "alan\n",
      "2\n",
      "24\n",
      "2\n",
      "adidas\n"
     ]
    }
   ],
   "source": [
    "lista=[1,\"alan\", 2]\n",
    "\n",
    "listin=list([24, 2, \"adidas\"])\n",
    "\n",
    "print(lista)\n",
    "\n",
    "print(listin)\n",
    "\n",
    "for item in lista:\n",
    "  print(item)\n",
    "\n",
    "for item in listin:\n",
    "  print(item)"
   ]
  },
  {
   "cell_type": "code",
   "execution_count": null,
   "id": "7c6947c9-43ae-4c65-a2db-7f6154b0fc3f",
   "metadata": {},
   "outputs": [],
   "source": []
  }
 ],
 "metadata": {
  "kernelspec": {
   "display_name": "anaconda-panel-2023.05-py310",
   "language": "python",
   "name": "conda-env-anaconda-panel-2023.05-py310-py"
  },
  "language_info": {
   "codemirror_mode": {
    "name": "ipython",
    "version": 3
   },
   "file_extension": ".py",
   "mimetype": "text/x-python",
   "name": "python",
   "nbconvert_exporter": "python",
   "pygments_lexer": "ipython3",
   "version": "3.11.5"
  }
 },
 "nbformat": 4,
 "nbformat_minor": 5
}
