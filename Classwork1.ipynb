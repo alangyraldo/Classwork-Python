{
  "nbformat": 4,
  "nbformat_minor": 0,
  "metadata": {
    "colab": {
      "provenance": []
    },
    "kernelspec": {
      "name": "python3",
      "display_name": "Python 3"
    },
    "language_info": {
      "name": "python"
    }
  },
  "cells": [
    {
      "cell_type": "code",
      "execution_count": 13,
      "metadata": {
        "colab": {
          "base_uri": "https://localhost:8080/"
        },
        "id": "1pTk2Gp5upLY",
        "outputId": "90079b83-fc7f-4c63-a89b-7e079a69cb4b"
      },
      "outputs": [
        {
          "output_type": "stream",
          "name": "stdout",
          "text": [
            "adidas\n"
          ]
        }
      ],
      "source": [
        "a=[\"nike\", \"puma\", \"adidas\", \"new balance\"]\n",
        "#print(a[0])\n",
        "#print(a[1])\n",
        "#print(a[3])\n",
        "print(a[-2])"
      ]
    },
    {
      "cell_type": "code",
      "source": [
        "edades= [20, 41, 6, 18, 23]\n",
        "\n",
        "for edad in edades:\n",
        "  print(edad)\n",
        "\n",
        "print(\"___________________\")\n",
        "\n",
        "for i in range(len(edades)):\n",
        "  print(edades[i])"
      ],
      "metadata": {
        "colab": {
          "base_uri": "https://localhost:8080/"
        },
        "id": "n1ncJ0L7yruB",
        "outputId": "5723cd32-ec2a-487a-90a3-f7fd61a7c830"
      },
      "execution_count": 19,
      "outputs": [
        {
          "output_type": "stream",
          "name": "stdout",
          "text": [
            "20\n",
            "41\n",
            "6\n",
            "18\n",
            "23\n",
            "___________________\n",
            "20\n",
            "41\n",
            "6\n",
            "18\n",
            "23\n"
          ]
        }
      ]
    },
    {
      "cell_type": "code",
      "source": [
        "mylist = [\"adidas\", \"futbol\", \"skate\"]\n",
        "print (mylist)\n",
        "\n",
        "for item in mylist:\n",
        "  print(item)"
      ],
      "metadata": {
        "colab": {
          "base_uri": "https://localhost:8080/"
        },
        "id": "Kvris76A0wXp",
        "outputId": "c53e2a1f-b861-4089-f0ab-d703c5b5d747"
      },
      "execution_count": 22,
      "outputs": [
        {
          "output_type": "stream",
          "name": "stdout",
          "text": [
            "['adidas', 'futbol', 'skate']\n",
            "adidas\n",
            "futbol\n",
            "skate\n"
          ]
        }
      ]
    },
    {
      "cell_type": "code",
      "source": [
        "lista=[1,\"alan\", 2]\n",
        "\n",
        "listin=list([24, 2, \"adidas\"])\n",
        "\n",
        "print(lista)\n",
        "\n",
        "print(listin)\n",
        "\n",
        "for item in lista:\n",
        "  print(item)\n",
        "\n",
        "for item in listin:\n",
        "  print(item)"
      ],
      "metadata": {
        "colab": {
          "base_uri": "https://localhost:8080/",
          "height": 222
        },
        "id": "PjcPR_TO1TAR",
        "outputId": "2de018f2-a79d-440f-d001-46c621cab3f1"
      },
      "execution_count": 46,
      "outputs": [
        {
          "output_type": "error",
          "ename": "TypeError",
          "evalue": "'list' object is not callable",
          "traceback": [
            "\u001b[0;31m---------------------------------------------------------------------------\u001b[0m",
            "\u001b[0;31mTypeError\u001b[0m                                 Traceback (most recent call last)",
            "\u001b[0;32m/tmp/ipython-input-3527699905.py\u001b[0m in \u001b[0;36m<cell line: 0>\u001b[0;34m()\u001b[0m\n\u001b[1;32m      1\u001b[0m \u001b[0mlista\u001b[0m\u001b[0;34m=\u001b[0m\u001b[0;34m[\u001b[0m\u001b[0;36m1\u001b[0m\u001b[0;34m,\u001b[0m\u001b[0;34m\"alan\"\u001b[0m\u001b[0;34m,\u001b[0m \u001b[0;36m2\u001b[0m\u001b[0;34m]\u001b[0m\u001b[0;34m\u001b[0m\u001b[0;34m\u001b[0m\u001b[0m\n\u001b[1;32m      2\u001b[0m \u001b[0;34m\u001b[0m\u001b[0m\n\u001b[0;32m----> 3\u001b[0;31m \u001b[0mlistin\u001b[0m\u001b[0;34m=\u001b[0m\u001b[0mlist\u001b[0m\u001b[0;34m(\u001b[0m\u001b[0;34m[\u001b[0m\u001b[0;36m24\u001b[0m\u001b[0;34m,\u001b[0m \u001b[0;36m2\u001b[0m\u001b[0;34m,\u001b[0m \u001b[0;34m\"adidas\"\u001b[0m\u001b[0;34m]\u001b[0m\u001b[0;34m)\u001b[0m\u001b[0;34m\u001b[0m\u001b[0;34m\u001b[0m\u001b[0m\n\u001b[0m\u001b[1;32m      4\u001b[0m \u001b[0;34m\u001b[0m\u001b[0m\n\u001b[1;32m      5\u001b[0m \u001b[0mprint\u001b[0m\u001b[0;34m(\u001b[0m\u001b[0mlista\u001b[0m\u001b[0;34m)\u001b[0m\u001b[0;34m\u001b[0m\u001b[0;34m\u001b[0m\u001b[0m\n",
            "\u001b[0;31mTypeError\u001b[0m: 'list' object is not callable"
          ]
        }
      ]
    },
    {
      "cell_type": "code",
      "source": [
        "edades =[20, 41, 6, 18, 23]\n",
        "edades.append(10)\n",
        "indice = 0\n",
        "\n",
        "edades= edades + [16,21,11]\n",
        "while indice < len(edades):\n",
        "  print(edades[indice])\n",
        "  indice += 1\n",
        "\n"
      ],
      "metadata": {
        "colab": {
          "base_uri": "https://localhost:8080/"
        },
        "id": "cBEfpTNY1q6o",
        "outputId": "3a18f9ab-e059-47bb-ff76-e4737b861976"
      },
      "execution_count": 47,
      "outputs": [
        {
          "output_type": "stream",
          "name": "stdout",
          "text": [
            "20\n",
            "41\n",
            "6\n",
            "18\n",
            "23\n",
            "10\n",
            "16\n",
            "21\n",
            "11\n"
          ]
        }
      ]
    },
    {
      "cell_type": "code",
      "source": [],
      "metadata": {
        "id": "HhqnVrYy2bE4"
      },
      "execution_count": null,
      "outputs": []
    }
  ]
}