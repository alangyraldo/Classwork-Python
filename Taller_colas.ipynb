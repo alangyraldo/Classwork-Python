{
  "nbformat": 4,
  "nbformat_minor": 0,
  "metadata": {
    "colab": {
      "provenance": []
    },
    "kernelspec": {
      "name": "python3",
      "display_name": "Python 3"
    },
    "language_info": {
      "name": "python"
    }
  },
  "cells": [
    {
      "cell_type": "code",
      "source": [
        "#1\n",
        "from collections import deque # importamos la colleccion\n",
        "\n",
        "cola = deque()#  creamos una cola simple\n",
        "cola.append(\"Cliente 1\")# agregamos los los clientes\n",
        "cola.append(\"Cliente 2\")\n",
        "cola.append(\"Cliente 3\")\n",
        "\n",
        "print(\"Cola actual:\", cola)# imprimomos la lista de los clientes\n",
        "\n",
        "while cola:\n",
        "    print(\"Atendiendo a:\", cola.popleft())# imprimimos la forma en que se estan atendiendo"
      ],
      "metadata": {
        "colab": {
          "base_uri": "https://localhost:8080/"
        },
        "id": "B3Qg_OG8TkTi",
        "outputId": "ef81b30d-29dc-4d21-e758-0a1aaeb5802e"
      },
      "execution_count": 19,
      "outputs": [
        {
          "output_type": "stream",
          "name": "stdout",
          "text": [
            "Cola actual: deque(['Cliente 1', 'Cliente 2', 'Cliente 3'])\n",
            "Atendiendo a: Cliente 1\n",
            "Atendiendo a: Cliente 2\n",
            "Atendiendo a: Cliente 3\n"
          ]
        }
      ]
    },
    {
      "cell_type": "code",
      "source": [
        "#2\n",
        "canciones = [\"Canción A\", \"Canción B\", \"Canción C\"]# se crea una lista de cansiones\n",
        "indice = 0\n",
        "\n",
        "for _ in range(6):  # lo dejamos en un rando de reeproduccionde 6 canciones\n",
        "    print(\"Reproduciendo:\", canciones[indice])\n",
        "    indice = (indice + 1) % len(canciones)  # esto refleja la cola de manera circular"
      ],
      "metadata": {
        "colab": {
          "base_uri": "https://localhost:8080/"
        },
        "id": "oWbSq8Q1Tpzj",
        "outputId": "92c7cc36-4590-42c1-f3e9-8b69582bdf27"
      },
      "execution_count": 6,
      "outputs": [
        {
          "output_type": "stream",
          "name": "stdout",
          "text": [
            "Reproduciendo: Canción A\n",
            "Reproduciendo: Canción B\n",
            "Reproduciendo: Canción C\n",
            "Reproduciendo: Canción A\n",
            "Reproduciendo: Canción B\n",
            "Reproduciendo: Canción C\n"
          ]
        }
      ]
    },
    {
      "cell_type": "code",
      "source": [
        "#3\n",
        "from collections import deque # importamos y llamamos la coleccion\n",
        "\n",
        "cola = deque() # se crea una cola vacia\n",
        "cola.append(\"Cliente normal 1\")# se van agregado clientes a la cola\n",
        "cola.appendleft(\"Cliente preferencial 1\")\n",
        "cola.append(\"Cliente normal 2\")\n",
        "cola.appendleft(\"Cliente preferencial 2\")\n",
        "\n",
        "print(\"Orden de atención:\", cola) # se imprime el orden de llegada\n",
        "\n",
        "while cola:\n",
        "    print(\"Atendiendo a:\", cola.popleft())# se imprime el orden de atención\n"
      ],
      "metadata": {
        "colab": {
          "base_uri": "https://localhost:8080/"
        },
        "id": "YxnFnlE_TstO",
        "outputId": "dc3bb803-e131-43ae-f853-8c692253fc57"
      },
      "execution_count": 7,
      "outputs": [
        {
          "output_type": "stream",
          "name": "stdout",
          "text": [
            "Orden de atención: deque(['Cliente preferencial 2', 'Cliente preferencial 1', 'Cliente normal 1', 'Cliente normal 2'])\n",
            "Atendiendo a: Cliente preferencial 2\n",
            "Atendiendo a: Cliente preferencial 1\n",
            "Atendiendo a: Cliente normal 1\n",
            "Atendiendo a: Cliente normal 2\n"
          ]
        }
      ]
    },
    {
      "cell_type": "code",
      "source": [
        "#4\n",
        "from queue import PriorityQueue\n",
        "\n",
        "pacientes = PriorityQueue()# Creamos la cola de prioridad\n",
        "pacientes.put((1, \"Paciente A - muy grave\"))# Encolamos pacientes con su nivel de gravedad (prioridad)\n",
        "pacientes.put((3, \"Paciente B - leve\"))\n",
        "pacientes.put((2, \"Paciente C - grave\"))\n",
        "pacientes.put((1, \"Paciente D - muy grave\"))\n",
        "\n",
        "print(\"Atendiendo pacientes según gravedad:\\n\")# Atendemos a los pacientes en orden de prioridad\n",
        "while not pacientes.empty():\n",
        "    gravedad, nombre = pacientes.get()  #con  get saca al más prioritario\n",
        "    print(f\"Atendido: {nombre} (Gravedad: {gravedad})\")\n"
      ],
      "metadata": {
        "colab": {
          "base_uri": "https://localhost:8080/"
        },
        "id": "mmXjQYSYTv0L",
        "outputId": "034d5088-17ff-4eab-942d-fe2e8be76981"
      },
      "execution_count": 8,
      "outputs": [
        {
          "output_type": "stream",
          "name": "stdout",
          "text": [
            "Orden de atención:\n",
            "Atendiendo a Paciente B (Gravedad 1)\n",
            "Atendiendo a Paciente A (Gravedad 2)\n",
            "Atendiendo a Paciente C (Gravedad 3)\n"
          ]
        }
      ]
    },
    {
      "cell_type": "code",
      "source": [
        "#5\n",
        "from collections import deque\n",
        "\n",
        "jugadores = deque([\"A\", \"B\", \"C\", \"D\", \"E\"])#se crea la lista\n",
        "\n",
        "while len(jugadores) > 1:# sacamos la longitud de los jugadores\n",
        "    jugadores.rotate(-2)  # mueve la cola\n",
        "    eliminado = jugadores.popleft()\n",
        "    print(\"Eliminado:\", eliminado)# se imprime la cola de los jugadores que se eliminan\n",
        "\n",
        "print(\"Ganador:\", jugadores[0])# se imprime el ganador\n"
      ],
      "metadata": {
        "colab": {
          "base_uri": "https://localhost:8080/"
        },
        "id": "BS-nNXp4Tyhx",
        "outputId": "8e2219e9-542d-4964-c99a-404c2e2034d1"
      },
      "execution_count": 9,
      "outputs": [
        {
          "output_type": "stream",
          "name": "stdout",
          "text": [
            "Eliminado: C\n",
            "Eliminado: A\n",
            "Eliminado: E\n",
            "Eliminado: B\n",
            "Ganador: D\n"
          ]
        }
      ]
    },
    {
      "cell_type": "code",
      "source": [
        "#6\n",
        "from collections import deque\n",
        "\n",
        "cajero1 = deque()# se crean las colas vacias\n",
        "cajero2 = deque()\n",
        "clientes = [\"C1\", \"C2\", \"C3\", \"C4\", \"C5\", \"C6\"]# se ingresan valores a la lista de clientes\n",
        "\n",
        "for i, cliente in enumerate(clientes):\n",
        "    if i % 2 == 0:# se asignan los clientes a un cajero en este caso los pares\n",
        "        cajero1.append(cliente)\n",
        "    else:\n",
        "        cajero2.append(cliente)\n",
        "\n",
        "print(\"Cajero 1 atenderá:\", cajero1)# se imprime el cajero y la lista de clientes segun la cola\n",
        "print(\"Cajero 2 atenderá:\", cajero2)\n"
      ],
      "metadata": {
        "colab": {
          "base_uri": "https://localhost:8080/"
        },
        "id": "zoaToZiNT0tE",
        "outputId": "13380c9a-5d2e-4947-fbe2-f03e7121cdef"
      },
      "execution_count": 10,
      "outputs": [
        {
          "output_type": "stream",
          "name": "stdout",
          "text": [
            "Cajero 1 atenderá: deque(['C1', 'C3', 'C5'])\n",
            "Cajero 2 atenderá: deque(['C2', 'C4', 'C6'])\n"
          ]
        }
      ]
    },
    {
      "cell_type": "code",
      "source": [
        "#7\n",
        "from collections import deque\n",
        "\n",
        "parqueadero = deque(maxlen=3)# se crea una cola con un maximo de valores\n",
        "\n",
        "parqueadero.append(\"Carro 1\")# se agregan valores a la cola\n",
        "parqueadero.append(\"Carro 2\")\n",
        "parqueadero.append(\"Carro 3\")\n",
        "print(\"Parqueadero:\", parqueadero)# se imprime la lista de carros\n",
        "\n",
        "parqueadero.append(\"Carro 4\")  #  se agrega el ingreso de un carro y la salida del Carro 1\n",
        "print(\"Parqueadero:\", parqueadero)# se imprime la lista actualizada\n"
      ],
      "metadata": {
        "colab": {
          "base_uri": "https://localhost:8080/"
        },
        "id": "qTbIoKyJUFPX",
        "outputId": "a8d2a19b-17e6-4b17-edd5-d0b2c9d3c615"
      },
      "execution_count": 11,
      "outputs": [
        {
          "output_type": "stream",
          "name": "stdout",
          "text": [
            "Parqueadero: deque(['Carro 1', 'Carro 2', 'Carro 3'], maxlen=3)\n",
            "Parqueadero: deque(['Carro 2', 'Carro 3', 'Carro 4'], maxlen=3)\n"
          ]
        }
      ]
    },
    {
      "cell_type": "code",
      "source": [
        "#8\n",
        "from queue import PriorityQueue\n",
        "vuelos = PriorityQueue()# Creamos la cola de prioridad\n",
        "\n",
        "vuelos.put((2, \"Vuelo 101 - Internacional\"))# Encolamos vuelos con su nivel de prioridad\n",
        "vuelos.put((3, \"Vuelo 202 - Nacional\"))\n",
        "vuelos.put((1, \"Vuelo 303 - Emergencia\"))\n",
        "vuelos.put((2, \"Vuelo 404 - Internacional\"))\n",
        "vuelos.put((3, \"Vuelo 505 - Nacional\"))\n",
        "\n",
        "\n",
        "print(\"Orden de despegue en el aeropuerto:\\n\")# Atendemos vuelos en orden de prioridad\n",
        "while not vuelos.empty():\n",
        "    prioridad, vuelo = vuelos.get()\n",
        "    if prioridad == 1:\n",
        "        tipo = \"Emergencia\"\n",
        "    elif prioridad == 2:\n",
        "        tipo = \"Internacional\"\n",
        "    else:\n",
        "        tipo = \"Nacional\"\n",
        "\n",
        "    print(f\"Despegando: {vuelo} (Prioridad: {tipo})\")"
      ],
      "metadata": {
        "colab": {
          "base_uri": "https://localhost:8080/"
        },
        "id": "hWTglkwDUGih",
        "outputId": "c7da330d-faf4-438d-847b-bbb1a79a908c"
      },
      "execution_count": 12,
      "outputs": [
        {
          "output_type": "stream",
          "name": "stdout",
          "text": [
            "Despegando: Vuelo emergencia\n",
            "Despegando: Vuelo Bogotá-Miami\n",
            "Despegando: Vuelo Bogotá-Medellín\n"
          ]
        }
      ]
    },
    {
      "cell_type": "code",
      "source": [
        "#9\n",
        "from collections import deque\n",
        "\n",
        "cola = deque()# se crea una cola vacia\n",
        "\n",
        "for i in range(3):\n",
        "    nombre = input(f\"Ingrese el nombre del cliente {i+1}: \")# se va ingreando el nombre del cliente y los va sumando uno en uno a la cola\n",
        "    cola.append(nombre)\n",
        "\n",
        "print(\"Orden de atención:\")\n",
        "while cola:\n",
        "    print(\"Atendiendo a:\", cola.popleft())# se imprime la cola\n"
      ],
      "metadata": {
        "colab": {
          "base_uri": "https://localhost:8080/"
        },
        "id": "lZMetMEMUI8q",
        "outputId": "1c0c8b8c-cf4b-4f4b-ee6c-d233ffd11ea4"
      },
      "execution_count": 14,
      "outputs": [
        {
          "output_type": "stream",
          "name": "stdout",
          "text": [
            "Ingrese el nombre del cliente 1: alan\n",
            "Ingrese el nombre del cliente 2: camilo\n",
            "Ingrese el nombre del cliente 3: andrea\n",
            "Orden de atención:\n",
            "Atendiendo a: alan\n",
            "Atendiendo a: camilo\n",
            "Atendiendo a: andrea\n"
          ]
        }
      ]
    },
    {
      "cell_type": "code",
      "source": [
        "#10\n",
        "from collections import deque\n",
        "\n",
        "procesos = deque([\"Proceso 1\", \"Proceso 2\", \"Proceso 3\"])# se crea una cola\n",
        "\n",
        "for i in range(6):  # 6 ciclos de CPU\n",
        "    actual = procesos.popleft()\n",
        "    print(\"Ejecutando:\", actual)\n",
        "    procesos.append(actual)\n"
      ],
      "metadata": {
        "colab": {
          "base_uri": "https://localhost:8080/"
        },
        "id": "dK0d7YgrUL1g",
        "outputId": "befb9022-1399-4eec-a529-8508be297259"
      },
      "execution_count": 15,
      "outputs": [
        {
          "output_type": "stream",
          "name": "stdout",
          "text": [
            "Ejecutando: Proceso 1\n",
            "Ejecutando: Proceso 2\n",
            "Ejecutando: Proceso 3\n",
            "Ejecutando: Proceso 1\n",
            "Ejecutando: Proceso 2\n",
            "Ejecutando: Proceso 3\n"
          ]
        }
      ]
    },
    {
      "cell_type": "code",
      "source": [
        "#11\n",
        "from collections import deque\n",
        "cola = deque([\"Ana\", \"Luis\", \"Pedro\", \"María\"])# se crea una cola inicial de clientes\n",
        "\n",
        "\n",
        "historial = {}# Diccionario para guardar el historial orden: nombre\n",
        "contador = 0\n",
        "print(\"Cola inicial:\", cola)\n",
        "\n",
        "while cola:# Atendemos a todos y vamos guardando en el diccionario\n",
        "    cliente = cola.popleft()   # se atiende el primero de la cola\n",
        "    contador += 1\n",
        "    historial[contador] = cliente\n",
        "    print(f\"Atendiendo ({contador}): {cliente}\")\n",
        "\n",
        "print(\"\\nHistorial de atención (orden: cliente):\")\n",
        "for orden, nombre in historial.items():\n",
        "    print(orden, \":\", nombre)\n",
        "\n",
        "print(\"\\nTotal atendidos:\", contador)"
      ],
      "metadata": {
        "colab": {
          "base_uri": "https://localhost:8080/"
        },
        "id": "q4YsXyv8YOw6",
        "outputId": "6f31f2a6-8bb4-45c8-9974-e492b6edfa34"
      },
      "execution_count": 20,
      "outputs": [
        {
          "output_type": "stream",
          "name": "stdout",
          "text": [
            "Cola inicial: deque(['Ana', 'Luis', 'Pedro', 'María'])\n",
            "Atendiendo (1): Ana\n",
            "Atendiendo (2): Luis\n",
            "Atendiendo (3): Pedro\n",
            "Atendiendo (4): María\n",
            "\n",
            "Historial de atención (orden: cliente):\n",
            "1 : Ana\n",
            "2 : Luis\n",
            "3 : Pedro\n",
            "4 : María\n",
            "\n",
            "Total atendidos: 4\n"
          ]
        }
      ]
    },
    {
      "cell_type": "code",
      "source": [
        "#12\n",
        "from queue import PriorityQueue\n",
        "pacientes = PriorityQueue()# Creamos la cola de prioridad\n",
        "\n",
        "print(\"=== Registro de pacientes en urgencias ===\")\n",
        "\n",
        "for i in range(3):# Pedimos datos de 3 pacientes\n",
        "    nombre = input(f\"Ingrese el nombre del paciente {i+1}: \")\n",
        "    prioridad = int(input(\"Ingrese nivel de prioridad (1 = grave, 2 = medio, 3 = leve): \"))\n",
        "    pacientes.put((prioridad, nombre))  # Guardamos en la cola como prioridad, nombre\n",
        "\n",
        "print(\"\\n--- Orden de atención ---\")\n",
        "while not pacientes.empty():\n",
        "    prioridad, nombre = pacientes.get()\n",
        "\n",
        "    if prioridad == 1:\n",
        "        nivel = \"Grave\"\n",
        "    elif prioridad == 2:\n",
        "        nivel = \"Medio\"\n",
        "    else:\n",
        "        nivel = \"Leve\"\n",
        "\n",
        "    print(f\"Atendido: {nombre} (Prioridad: {nivel})\")"
      ],
      "metadata": {
        "colab": {
          "base_uri": "https://localhost:8080/"
        },
        "id": "0Hkp6xqeYbjm",
        "outputId": "4d667356-12e2-45e5-b903-40d0b5fff533"
      },
      "execution_count": 23,
      "outputs": [
        {
          "output_type": "stream",
          "name": "stdout",
          "text": [
            "=== Registro de pacientes en urgencias ===\n",
            "Ingrese el nombre del paciente 1: alan\n",
            "Ingrese nivel de prioridad (1 = grave, 2 = medio, 3 = leve): 3\n",
            "Ingrese el nombre del paciente 2: car\n",
            "Ingrese nivel de prioridad (1 = grave, 2 = medio, 3 = leve): 2\n",
            "Ingrese el nombre del paciente 3: saofia\n",
            "Ingrese nivel de prioridad (1 = grave, 2 = medio, 3 = leve): 1\n",
            "\n",
            "--- Orden de atención ---\n",
            "Atendido: saofia (Prioridad: Grave)\n",
            "Atendido: car (Prioridad: Medio)\n",
            "Atendido: alan (Prioridad: Leve)\n"
          ]
        }
      ]
    },
    {
      "cell_type": "code",
      "source": [
        "#13\n",
        "from collections import deque\n",
        "jugadores = deque([(\"Alan\", 3), (\"Sofía\", 2), (\"Carlos\", 1)])# Jugadores con energía inicial (nombre, energía\n",
        "ronda = 0\n",
        "\n",
        "print(\"Jugadores iniciales:\", jugadores)\n",
        "\n",
        "\n",
        "while len(jugadores) > 1:# Repetimos hasta que quede 1 jugador o ninguno\n",
        "    ronda += 1\n",
        "    nombre, energia = jugadores.popleft()  # se toma turno\n",
        "    print(f\"\\nRonda {ronda} - Turno de {nombre} (energía antes: {energia})\")\n",
        "    energia -= 1  # pierde energía por jugar\n",
        "    if energia > 0:\n",
        "        jugadores.append((nombre, energia))  # vuelve al final con energía reducida\n",
        "        print(f\"{nombre} vuelve a la cola con energía {energia}\")\n",
        "    else:\n",
        "        print(f\"{nombre} queda eliminado (energía 0)\")\n",
        "\n",
        "if jugadores:\n",
        "    ganador = jugadores[0]\n",
        "    print(\"\\nGanador o último jugador restante:\", ganador)\n",
        "else:\n",
        "    print(\"\\nNo quedan jugadores en la cola.\")"
      ],
      "metadata": {
        "colab": {
          "base_uri": "https://localhost:8080/"
        },
        "id": "b0H9kyr6Yt2_",
        "outputId": "c1301084-36f3-453d-b343-a74fbc5d5f49"
      },
      "execution_count": 21,
      "outputs": [
        {
          "output_type": "stream",
          "name": "stdout",
          "text": [
            "Jugadores iniciales: deque([('Alan', 3), ('Sofía', 2), ('Carlos', 1)])\n",
            "\n",
            "Ronda 1 - Turno de Alan (energía antes: 3)\n",
            "Alan vuelve a la cola con energía 2\n",
            "\n",
            "Ronda 2 - Turno de Sofía (energía antes: 2)\n",
            "Sofía vuelve a la cola con energía 1\n",
            "\n",
            "Ronda 3 - Turno de Carlos (energía antes: 1)\n",
            "Carlos queda eliminado (energía 0)\n",
            "\n",
            "Ronda 4 - Turno de Alan (energía antes: 2)\n",
            "Alan vuelve a la cola con energía 1\n",
            "\n",
            "Ronda 5 - Turno de Sofía (energía antes: 1)\n",
            "Sofía queda eliminado (energía 0)\n",
            "\n",
            "Ganador o último jugador restante: ('Alan', 1)\n"
          ]
        }
      ]
    },
    {
      "cell_type": "code",
      "source": [
        "#14\n",
        "from collections import deque\n",
        "\n",
        "impresora = deque()\n",
        "\n",
        "print(\"Ingrese 3 documentos para imprimir:\")\n",
        "\n",
        "for i in range(3):\n",
        "    doc = input(f\"Nombre del documento {i+1}: \")\n",
        "    impresora.append(doc)\n",
        "\n",
        "print(\"\\nOrden de impresión:\")\n",
        "while impresora:\n",
        "    doc = impresora.popleft()\n",
        "    print(\"Imprimiendo:\", doc)"
      ],
      "metadata": {
        "id": "5U5lmKNAZIg9"
      },
      "execution_count": null,
      "outputs": []
    },
    {
      "cell_type": "code",
      "source": [
        "#15\n",
        "from collections import deque\n",
        "clientes = [\"C1\", \"C2\", \"C3\", \"C4\", \"C5\", \"C6\", \"C7\", \"C8\"]# Lista de clientes que llegan (puedes cambiar nombres para probar)\n",
        "\n",
        "caja1 = deque()\n",
        "caja2 = deque()\n",
        "\n",
        "\n",
        "for cliente in clientes:# Asignar clientes a la caja con menos personas\n",
        "    if len(caja1) <= len(caja2):\n",
        "        caja1.append(cliente)\n",
        "        print(f\"{cliente} asignado a Caja 1\")\n",
        "    else:\n",
        "        caja2.append(cliente)\n",
        "        print(f\"{cliente} asignado a Caja 2\")\n",
        "\n",
        "print(\"\\nColas iniciales:\")\n",
        "print(\"Caja 1:\", caja1)\n",
        "print(\"Caja 2:\", caja2)\n",
        "\n",
        "\n",
        "orden_atencion = []# Procesanado que se atiende la primero caja1, luego caja2, hasta que ambas queden vacías\n",
        "while caja1 or caja2:\n",
        "    if caja1:\n",
        "        atendido = caja1.popleft()\n",
        "        orden_atencion.append((\"Caja1\", atendido))\n",
        "    if caja2:\n",
        "        atendido = caja2.popleft()\n",
        "        orden_atencion.append((\"Caja2\", atendido))\n",
        "\n",
        "print(\"\\nOrden de atención (Caja, Cliente):\")\n",
        "for caja, cliente in orden_atencion:\n",
        "    print(caja, cliente)"
      ],
      "metadata": {
        "id": "FQXAIpXXZIKs"
      },
      "execution_count": null,
      "outputs": []
    }
  ]
}