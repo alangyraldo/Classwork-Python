{
  "nbformat": 4,
  "nbformat_minor": 0,
  "metadata": {
    "colab": {
      "provenance": []
    },
    "kernelspec": {
      "name": "python3",
      "display_name": "Python 3"
    },
    "language_info": {
      "name": "python"
    }
  },
  "cells": [
    {
      "cell_type": "code",
      "source": [
        "# 1\n",
        "usuarios_registrados = [\"ana_dev\", \"luis_ux\", \"carlos_pm\"]\n",
        "\n",
        "usuarios_unicos = set(usuarios_registrados)# Creamos un set para verificación rápida\n",
        "nuevo_usuario = \"luis_ux\"# Llegada de un nuevo usuario\n",
        "\n",
        "if nuevo_usuario in usuarios_unicos:\n",
        "    print(f\"El usuario '{nuevo_usuario}' ya existe.\")\n",
        "else:\n",
        "    usuarios_registrados.append(nuevo_usuario)\n",
        "    usuarios_unicos.add(nuevo_usuario)\n",
        "\n",
        "\n",
        "nuevo_usuario = \"sofia_qa\"# Repetimos con otro usuario\n",
        "\n",
        "if nuevo_usuario in usuarios_unicos:\n",
        "    print(f\"El usuario '{nuevo_usuario}' ya existe.\")\n",
        "else:\n",
        "    usuarios_registrados.append(nuevo_usuario)\n",
        "    usuarios_unicos.add(nuevo_usuario)\n",
        "\n",
        "#  resultados\n",
        "print(\"Lista final de usuarios registrados (ordenada)\",usuarios_registrados)\n",
        "print(\"Conjunto de usuarios únicos\",usuarios_unicos)"
      ],
      "metadata": {
        "colab": {
          "base_uri": "https://localhost:8080/"
        },
        "id": "HTn7VbTv2uV6",
        "outputId": "5cf7eda7-58fa-4526-b4d0-f635a7374aee"
      },
      "execution_count": 14,
      "outputs": [
        {
          "output_type": "stream",
          "name": "stdout",
          "text": [
            "El usuario 'luis_ux' ya existe.\n",
            "Lista final de usuarios registrados (ordenada) ['ana_dev', 'luis_ux', 'carlos_pm', 'sofia_qa']\n",
            "Conjunto de usuarios únicos {'ana_dev', 'sofia_qa', 'carlos_pm', 'luis_ux'}\n"
          ]
        }
      ]
    },
    {
      "cell_type": "code",
      "source": [
        "# 2\n",
        "\n",
        "ventas_precios = [15.50, 20.00, 5.75, 15.50, 30.00]\n",
        "productos_vendidos = [\"cafe\", \"torta\", \"galleta\", \"cafe\", \"almuerzo\"]\n",
        "\n",
        "ingresos_totales = sum(ventas_precios)#Calcular total de ingresos a partir del metodo sum\n",
        "\n",
        "productos_unicos = set(productos_vendidos)#Crear un conjunto para obtener productos únicos\n",
        "\n",
        "# resultados\n",
        "print(f\"Ingresos totales del día: ${ingresos_totales:.2f}\")\n",
        "print(f\"Número de productos únicos vendidos: {len(productos_unicos)}\")\n",
        "print(f\"Productos únicos: {productos_unicos}\")"
      ],
      "metadata": {
        "colab": {
          "base_uri": "https://localhost:8080/"
        },
        "id": "SHOJM-dB2uBY",
        "outputId": "e5873370-cebd-4153-c264-d98557916dc1"
      },
      "execution_count": 15,
      "outputs": [
        {
          "output_type": "stream",
          "name": "stdout",
          "text": [
            "Ingresos totales del día: $86.75\n",
            "Número de productos únicos vendidos: 4\n",
            "Productos únicos: {'torta', 'almuerzo', 'galleta', 'cafe'}\n"
          ]
        }
      ]
    },
    {
      "cell_type": "code",
      "source": [
        "# 3\n",
        "tareas = [\"Enviar reporte\", \"Revisar correos\"]\n",
        "\n",
        "nueva_tarea = \"Llamar al cliente\"#  se añade nueva tarea\n",
        "tareas.append(nueva_tarea)\n",
        "print(\"Lista de tareas actualizada:\")# Mostramos lalista actualizada\n",
        "print(tareas)\n",
        "\n",
        "tareas[0] = tareas[0] + \" (Completada)\"# marcamos la primera tarea como completada\n",
        "\n",
        "# lista final\n",
        "print(\"Lista final de tareas:\")\n",
        "print(tareas)"
      ],
      "metadata": {
        "id": "btWvotlb2tqQ"
      },
      "execution_count": null,
      "outputs": []
    },
    {
      "cell_type": "code",
      "source": [
        "#4\n",
        "asistentes_ingresados = [\"ID_1122\", \"ID_3344\"]\n",
        "\n",
        "asistentes_ingresados.append(\"ID_5566\")# Persona que llega\n",
        "\n",
        "\n",
        "persona_llegando = input(\"Ingresa el ID de la persona que llega: \")# Se crea un input para solicitar el numero de id que va a ingresarar\n",
        "if persona_llegando in asistentes_ingresados:# se crea un if para la condicion, si ya ingreso o si es un id nuevo ingreso\n",
        "    print(\"Ya has ingresado.\")\n",
        "else:\n",
        "    asistentes_ingresados.add(persona_llegando)\n",
        "    print(\"Bienvenido\")\n",
        "\n",
        "print(\"Asistentes finales:\", asistentes_ingresados)# se imprimen las lista con los id ingresados unicos"
      ],
      "metadata": {
        "colab": {
          "base_uri": "https://localhost:8080/"
        },
        "id": "4vzZrh8GzdLp",
        "outputId": "c9923629-6d00-4a5b-8fb9-e6dd6e33b57c"
      },
      "execution_count": 8,
      "outputs": [
        {
          "output_type": "stream",
          "name": "stdout",
          "text": [
            "Ingresa el ID de la persona que llega: ID_1122\n",
            "Ya has ingresado.\n",
            "Asistentes finales: ['ID_1122', 'ID_3344', 'ID_5566']\n"
          ]
        }
      ]
    },
    {
      "cell_type": "code",
      "source": [
        "#5\n",
        "calificaciones = [3.5, 4.0, 5.0, 2.5, 3.5, 4.0, 4.8]\n",
        "promedio = sum(calificaciones) / len(calificaciones)# se realiza el promedio de las calificacion con la suma de ellas y saando al longitud de ellas (sum / len)\n",
        "notas_unicas = set(calificaciones) # se crea el set de las notas unicas, esto sacara los duplicados cuando se imprima\n",
        "\n",
        "print(f\"Promedio: {promedio:.2f}\")# el .2 es para darle . 2 decimales al resultado\n",
        "\n",
        "print(\"Notas únicas:\", notas_unicas)"
      ],
      "metadata": {
        "colab": {
          "base_uri": "https://localhost:8080/"
        },
        "id": "A-m79mbc0BZE",
        "outputId": "e1145a2d-57a8-431c-b5d2-4a99a55ef772"
      },
      "execution_count": 13,
      "outputs": [
        {
          "output_type": "stream",
          "name": "stdout",
          "text": [
            "Promedio: 3.90\n",
            "Notas únicas: {2.5, 3.5, 4.8, 4.0, 5.0}\n"
          ]
        }
      ]
    },
    {
      "cell_type": "code",
      "source": [
        "#6\n",
        "tallas_disponibles = [\"S\", \"M\", \"L\", \"M\"]# lista de tallas que tenemos (hay repetidas)\n",
        "tallas_unicas = set(tallas_disponibles)# convertir la lista en conjunto para que no se repitan\n",
        "\n",
        "nueva_talla = \"XL\"# llega una nueva talla y la metemos al conjunto\n",
        "tallas_unicas.add(nueva_talla)\n",
        "\n",
        "tallas_unicas.add(\"S\")# probamos a meter otra vez la \"S\" (pero no se repite en conjuntos)\n",
        "\n",
        "# mostramos cómo quedó el conjunto\n",
        "print(\"Tallas únicas disponibles:\", tallas_unicas)"
      ],
      "metadata": {
        "id": "39esvNFs3pD3"
      },
      "execution_count": null,
      "outputs": []
    },
    {
      "cell_type": "code",
      "source": [
        "#7\n",
        "mis_sugerencias = [\"París\", \"Roma\", \"Berlín\"]# mis destinos sugeridos\n",
        "sugerencias_amigo = [\"Londres\", \"Roma\", \"Praga\"]# lo que sugirió mi amigo\n",
        "\n",
        "set_mis_sugerencias = set(mis_sugerencias)# paso 1: convertir las listas en conjuntos (así quitamos repetidos)\n",
        "set_sugerencias_amigo = set(sugerencias_amigo)\n",
        "\n",
        "destinos_finales = set_mis_sugerencias.union(set_sugerencias_amigo)# paso 2: unir los dos conjuntos para tener todos los destinos sin repetir\n",
        "\n",
        "# paso 3: mostrar cómo quedó la lista final\n",
        "print(\"Destinos finales únicos:\", destinos_finales)\n",
        "print(\"Cantidad total de destinos únicos:\", len(destinos_finales))"
      ],
      "metadata": {
        "id": "OkwIDOBa300D"
      },
      "execution_count": null,
      "outputs": []
    },
    {
      "cell_type": "code",
      "source": [
        "# Caso 8: Análisis de Encuesta\n",
        "\n",
        "respuestas = [5, 4, 3, 5, 5, 2, 4, 5, 1, 5]# Lista con las respuestas de la encuesta (del 1 = muy insatisfecho, al 5 = muy satisfecho)\n",
        "\n",
        "\n",
        "contador_max_satisfaccion = 0 # Variable para contar cuántas personas respondieron \"5\" (muy satisfecho)\n",
        "\n",
        "\n",
        "for r in respuestas:# Recorremos la lista de respuestas\n",
        "    if r == 5:  # Si la respuesta es 5, aumentamos el contador\n",
        "        contador_max_satisfaccion += 1\n",
        "\n",
        "\n",
        "respuestas_unicas = set(respuestas)# Usamos un conjunto (set) para ver solo las respuestas únicas que aparecieron\n",
        "\n",
        "# Mostramos los resultados\n",
        "print(\"Opciones únicas de respuesta en la encuesta:\", respuestas_unicas)\n",
        "print(\"Total de personas 'muy satisfechas' (5):\", contador_max_satisfaccion)"
      ],
      "metadata": {
        "colab": {
          "base_uri": "https://localhost:8080/"
        },
        "id": "yOl7-Vct4VRq",
        "outputId": "8f269810-4270-49b1-e968-8299f72b726e"
      },
      "execution_count": 19,
      "outputs": [
        {
          "output_type": "stream",
          "name": "stdout",
          "text": [
            "Opciones únicas de respuesta en la encuesta: {1, 2, 3, 4, 5}\n",
            "Total de personas 'muy satisfechas' (5): 5\n"
          ]
        }
      ]
    },
    {
      "cell_type": "code",
      "source": [
        "# Caso 9: Gestión de Ingredientes para una Receta\n",
        "ingredientes_masa = [\"harina\", \"mantequilla\", \"agua\", \"sal\"]# Lista de ingredientes para la masa\n",
        "ingredientes_relleno = [\"queso\", \"espinaca\", \"huevo\", \"sal\"]# Lista de ingredientes para el relleno\n",
        "\n",
        "\n",
        "ingredientes_totales = ingredientes_masa + ingredientes_relleno #Combinamos ambas listas en una sola\n",
        "ingredientes_unicos = set(ingredientes_totales)# usamos un conjunto (set) para eliminar duplicados\n",
        "lista_compras_final = list(ingredientes_unicos)#Convertimos el set de nuevo a lista (opcional, para que se vea como lista)\n",
        "\n",
        "# Mostramos el resultado\n",
        "print(\"Lista de compras final (sin duplicados):\", lista_compras_final)"
      ],
      "metadata": {
        "colab": {
          "base_uri": "https://localhost:8080/"
        },
        "id": "neQANPoK4Vye",
        "outputId": "61060caf-53a7-43f7-a4f0-31470e39e594"
      },
      "execution_count": 20,
      "outputs": [
        {
          "output_type": "stream",
          "name": "stdout",
          "text": [
            "Lista de compras final (sin duplicados): ['espinaca', 'mantequilla', 'huevo', 'harina', 'sal', 'agua', 'queso']\n"
          ]
        }
      ]
    },
    {
      "cell_type": "code",
      "source": [
        "# Caso 10: Filtrado de Correo Electrónico\n",
        "\n",
        "spam_emails = {\"spam1@example.com\", \"ofertas@mal.com\", \"dudoso@mail.net\"}# Conjunto con los correos que están en la lista negra (spam)\n",
        "\n",
        "correo_entrante = \"usuario.normal@email.com\" #Creamos una variable con un correo entrante (caso 1)\n",
        "log_verificaciones = [] # Lista para registrar los correos verificados\n",
        "\n",
        "if correo_entrante in spam_emails: #Verificamos si el primer correo está en la lista de spam\n",
        "    print(\"Alerta de SPAM:\", correo_entrante)\n",
        "else:\n",
        "    print(\"Correo seguro:\", correo_entrante)\n",
        "\n",
        "\n",
        "log_verificaciones.append(correo_entrante)# Agregamos al log\n",
        "\n",
        "\n",
        "correo_entrante = \"ofertas@mal.com\"  # Repetimos el proceso con otro correo (caso 2)\n",
        "\n",
        "if correo_entrante in spam_emails:\n",
        "    print(\"Alerta de SPAM:\", correo_entrante)\n",
        "else:\n",
        "    print(\"Correo seguro:\", correo_entrante)\n",
        "\n",
        "log_verificaciones.append(correo_entrante)\n",
        "\n",
        "# Mostramos el log de correos verificados\n",
        "print(\"Registro de correos verificados:\", log_verificaciones)"
      ],
      "metadata": {
        "colab": {
          "base_uri": "https://localhost:8080/"
        },
        "id": "PRFW2ZZP4WMO",
        "outputId": "1c35d486-054f-4a62-defc-3b4de816677c"
      },
      "execution_count": 21,
      "outputs": [
        {
          "output_type": "stream",
          "name": "stdout",
          "text": [
            "Correo seguro: usuario.normal@email.com\n",
            "Alerta de SPAM: ofertas@mal.com\n",
            "Registro de correos verificados: ['usuario.normal@email.com', 'ofertas@mal.com']\n"
          ]
        }
      ]
    },
    {
      "cell_type": "code",
      "source": [
        "# Integrantes jaja\n",
        "integrantes = [\"david Ballesteros\", \"Juan Castillo\", \" Mateo Franco\", \"Alan Melo Giraldo\"]\n",
        "print(integrantes)"
      ],
      "metadata": {
        "colab": {
          "base_uri": "https://localhost:8080/"
        },
        "id": "Lj2Tq2kn4WqX",
        "outputId": "49e1550f-b4fe-4d06-afac-8bfe458291dc"
      },
      "execution_count": 18,
      "outputs": [
        {
          "output_type": "stream",
          "name": "stdout",
          "text": [
            "['david Ballesteros', 'Juan Castillo', ' Mateo Franco', 'Alan Melo Giraldo']\n"
          ]
        }
      ]
    }
  ]
}